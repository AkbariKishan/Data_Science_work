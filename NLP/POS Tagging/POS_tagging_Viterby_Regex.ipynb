{
 "cells": [
  {
   "cell_type": "markdown",
   "metadata": {},
   "source": [
    "# Problem Statement\n",
    "\n",
    "\n",
    "Any natural language is a medium of communication used by human beings. Natural languages are quite difficult to process using algorithms considering its complexity and variants. Natural Language Processing (NLP) mainly includes three tasks,\n",
    "\n",
    "- Lexical Processing: Statistical analysis of words present in the given corpora and gain inferences out of it. This can be used for document classification, spam/non-spam classification etc. \n",
    "\n",
    "- Syntactic Processing: This includes parsing of sentences and their grammatical structure without considering its meaning. It includes Parts Of Speech (POS) tagging, Information Extraction etc.\n",
    "\n",
    "- Semantic Processing: This final part includes gaining the meaningful insights out of given corpora. It can be used for higher level application like building program to chat with users to assist them (e.g. customer service).\n",
    "\n",
    "Here, we are going to focus on POS tagging part of NLP using Viterbi algorithm and regular expression.\n",
    "\n",
    "POS Tagging: POS (Parts Of Speech) tagging includes tagging English POS (in this case) to each word in the given corpora. The purpose of POS tagging in NLP is to understand correctness of grammatical integrity and extract relationship between each word.\n",
    "\n",
    "Viterbi Algorithm: It is based on an assumption that POS tag for current words depends upon POS tag for previous word and current word itself (Hidden Markov Model - HMM). It does steps by step maximization of ***P(word_n|POS_n) * P(POS_n|POS_n-1)***. \n",
    "\n",
    "For more insights on Viterbi algorithm please check this link:\n",
    "https://www.freecodecamp.org/news/a-deep-dive-into-part-of-speech-tagging-using-viterbi-algorithm-17c8de32e8bc/"
   ]
  },
  {
   "cell_type": "markdown",
   "metadata": {},
   "source": [
    "### Dependancies"
   ]
  },
  {
   "cell_type": "code",
   "execution_count": 1,
   "metadata": {},
   "outputs": [
    {
     "name": "stderr",
     "output_type": "stream",
     "text": [
      "[nltk_data] Downloading package treebank to\n",
      "[nltk_data]     /Users/kishanakbari/nltk_data...\n",
      "[nltk_data]   Package treebank is already up-to-date!\n"
     ]
    }
   ],
   "source": [
    "# Importing libraries\n",
    "\n",
    "import nltk\n",
    "nltk.download('treebank')\n",
    "from nltk.probability import FreqDist\n",
    "\n",
    "import numpy as np\n",
    "import pandas as pd\n",
    "\n",
    "import matplotlib.pyplot as plt\n",
    "import seaborn as sns\n",
    "\n",
    "import time\n",
    "import random\n",
    "from sklearn.model_selection import train_test_split"
   ]
  },
  {
   "cell_type": "markdown",
   "metadata": {},
   "source": [
    "## 1. Reading Dataset"
   ]
  },
  {
   "cell_type": "markdown",
   "metadata": {},
   "source": [
    "NLTK (Natural Language Took-Kit) is having many corpora (datasets). Here, we would be using **treebank corpus** for our algorithm. Here, we would be using universal tag-set as it contains only 12 tags which are easier to parse and computationally less expensive."
   ]
  },
  {
   "cell_type": "code",
   "execution_count": 2,
   "metadata": {},
   "outputs": [],
   "source": [
    "# reading the Treebank tagged sentences\n",
    "nltk_data = list(nltk.corpus.treebank.tagged_sents(tagset='universal'))"
   ]
  },
  {
   "cell_type": "code",
   "execution_count": 3,
   "metadata": {},
   "outputs": [
    {
     "data": {
      "text/plain": [
       "3914"
      ]
     },
     "execution_count": 3,
     "metadata": {},
     "output_type": "execute_result"
    }
   ],
   "source": [
    "len(nltk_data)"
   ]
  },
  {
   "cell_type": "markdown",
   "metadata": {},
   "source": [
    "There are 3914 sentenses in the treebank dataset."
   ]
  },
  {
   "cell_type": "code",
   "execution_count": 4,
   "metadata": {},
   "outputs": [
    {
     "data": {
      "text/plain": [
       "[[('Pierre', 'NOUN'),\n",
       "  ('Vinken', 'NOUN'),\n",
       "  (',', '.'),\n",
       "  ('61', 'NUM'),\n",
       "  ('years', 'NOUN'),\n",
       "  ('old', 'ADJ'),\n",
       "  (',', '.'),\n",
       "  ('will', 'VERB'),\n",
       "  ('join', 'VERB'),\n",
       "  ('the', 'DET'),\n",
       "  ('board', 'NOUN'),\n",
       "  ('as', 'ADP'),\n",
       "  ('a', 'DET'),\n",
       "  ('nonexecutive', 'ADJ'),\n",
       "  ('director', 'NOUN'),\n",
       "  ('Nov.', 'NOUN'),\n",
       "  ('29', 'NUM'),\n",
       "  ('.', '.')],\n",
       " [('Mr.', 'NOUN'),\n",
       "  ('Vinken', 'NOUN'),\n",
       "  ('is', 'VERB'),\n",
       "  ('chairman', 'NOUN'),\n",
       "  ('of', 'ADP'),\n",
       "  ('Elsevier', 'NOUN'),\n",
       "  ('N.V.', 'NOUN'),\n",
       "  (',', '.'),\n",
       "  ('the', 'DET'),\n",
       "  ('Dutch', 'NOUN'),\n",
       "  ('publishing', 'VERB'),\n",
       "  ('group', 'NOUN'),\n",
       "  ('.', '.')],\n",
       " [('Rudolph', 'NOUN'),\n",
       "  ('Agnew', 'NOUN'),\n",
       "  (',', '.'),\n",
       "  ('55', 'NUM'),\n",
       "  ('years', 'NOUN'),\n",
       "  ('old', 'ADJ'),\n",
       "  ('and', 'CONJ'),\n",
       "  ('former', 'ADJ'),\n",
       "  ('chairman', 'NOUN'),\n",
       "  ('of', 'ADP'),\n",
       "  ('Consolidated', 'NOUN'),\n",
       "  ('Gold', 'NOUN'),\n",
       "  ('Fields', 'NOUN'),\n",
       "  ('PLC', 'NOUN'),\n",
       "  (',', '.'),\n",
       "  ('was', 'VERB'),\n",
       "  ('named', 'VERB'),\n",
       "  ('*-1', 'X'),\n",
       "  ('a', 'DET'),\n",
       "  ('nonexecutive', 'ADJ'),\n",
       "  ('director', 'NOUN'),\n",
       "  ('of', 'ADP'),\n",
       "  ('this', 'DET'),\n",
       "  ('British', 'ADJ'),\n",
       "  ('industrial', 'ADJ'),\n",
       "  ('conglomerate', 'NOUN'),\n",
       "  ('.', '.')],\n",
       " [('A', 'DET'),\n",
       "  ('form', 'NOUN'),\n",
       "  ('of', 'ADP'),\n",
       "  ('asbestos', 'NOUN'),\n",
       "  ('once', 'ADV'),\n",
       "  ('used', 'VERB'),\n",
       "  ('*', 'X'),\n",
       "  ('*', 'X'),\n",
       "  ('to', 'PRT'),\n",
       "  ('make', 'VERB'),\n",
       "  ('Kent', 'NOUN'),\n",
       "  ('cigarette', 'NOUN'),\n",
       "  ('filters', 'NOUN'),\n",
       "  ('has', 'VERB'),\n",
       "  ('caused', 'VERB'),\n",
       "  ('a', 'DET'),\n",
       "  ('high', 'ADJ'),\n",
       "  ('percentage', 'NOUN'),\n",
       "  ('of', 'ADP'),\n",
       "  ('cancer', 'NOUN'),\n",
       "  ('deaths', 'NOUN'),\n",
       "  ('among', 'ADP'),\n",
       "  ('a', 'DET'),\n",
       "  ('group', 'NOUN'),\n",
       "  ('of', 'ADP'),\n",
       "  ('workers', 'NOUN'),\n",
       "  ('exposed', 'VERB'),\n",
       "  ('*', 'X'),\n",
       "  ('to', 'PRT'),\n",
       "  ('it', 'PRON'),\n",
       "  ('more', 'ADV'),\n",
       "  ('than', 'ADP'),\n",
       "  ('30', 'NUM'),\n",
       "  ('years', 'NOUN'),\n",
       "  ('ago', 'ADP'),\n",
       "  (',', '.'),\n",
       "  ('researchers', 'NOUN'),\n",
       "  ('reported', 'VERB'),\n",
       "  ('0', 'X'),\n",
       "  ('*T*-1', 'X'),\n",
       "  ('.', '.')],\n",
       " [('The', 'DET'),\n",
       "  ('asbestos', 'NOUN'),\n",
       "  ('fiber', 'NOUN'),\n",
       "  (',', '.'),\n",
       "  ('crocidolite', 'NOUN'),\n",
       "  (',', '.'),\n",
       "  ('is', 'VERB'),\n",
       "  ('unusually', 'ADV'),\n",
       "  ('resilient', 'ADJ'),\n",
       "  ('once', 'ADP'),\n",
       "  ('it', 'PRON'),\n",
       "  ('enters', 'VERB'),\n",
       "  ('the', 'DET'),\n",
       "  ('lungs', 'NOUN'),\n",
       "  (',', '.'),\n",
       "  ('with', 'ADP'),\n",
       "  ('even', 'ADV'),\n",
       "  ('brief', 'ADJ'),\n",
       "  ('exposures', 'NOUN'),\n",
       "  ('to', 'PRT'),\n",
       "  ('it', 'PRON'),\n",
       "  ('causing', 'VERB'),\n",
       "  ('symptoms', 'NOUN'),\n",
       "  ('that', 'DET'),\n",
       "  ('*T*-1', 'X'),\n",
       "  ('show', 'VERB'),\n",
       "  ('up', 'PRT'),\n",
       "  ('decades', 'NOUN'),\n",
       "  ('later', 'ADJ'),\n",
       "  (',', '.'),\n",
       "  ('researchers', 'NOUN'),\n",
       "  ('said', 'VERB'),\n",
       "  ('0', 'X'),\n",
       "  ('*T*-2', 'X'),\n",
       "  ('.', '.')],\n",
       " [('Lorillard', 'NOUN'),\n",
       "  ('Inc.', 'NOUN'),\n",
       "  (',', '.'),\n",
       "  ('the', 'DET'),\n",
       "  ('unit', 'NOUN'),\n",
       "  ('of', 'ADP'),\n",
       "  ('New', 'ADJ'),\n",
       "  ('York-based', 'ADJ'),\n",
       "  ('Loews', 'NOUN'),\n",
       "  ('Corp.', 'NOUN'),\n",
       "  ('that', 'DET'),\n",
       "  ('*T*-2', 'X'),\n",
       "  ('makes', 'VERB'),\n",
       "  ('Kent', 'NOUN'),\n",
       "  ('cigarettes', 'NOUN'),\n",
       "  (',', '.'),\n",
       "  ('stopped', 'VERB'),\n",
       "  ('using', 'VERB'),\n",
       "  ('crocidolite', 'NOUN'),\n",
       "  ('in', 'ADP'),\n",
       "  ('its', 'PRON'),\n",
       "  ('Micronite', 'NOUN'),\n",
       "  ('cigarette', 'NOUN'),\n",
       "  ('filters', 'NOUN'),\n",
       "  ('in', 'ADP'),\n",
       "  ('1956', 'NUM'),\n",
       "  ('.', '.')],\n",
       " [('Although', 'ADP'),\n",
       "  ('preliminary', 'ADJ'),\n",
       "  ('findings', 'NOUN'),\n",
       "  ('were', 'VERB'),\n",
       "  ('reported', 'VERB'),\n",
       "  ('*-2', 'X'),\n",
       "  ('more', 'ADV'),\n",
       "  ('than', 'ADP'),\n",
       "  ('a', 'DET'),\n",
       "  ('year', 'NOUN'),\n",
       "  ('ago', 'ADP'),\n",
       "  (',', '.'),\n",
       "  ('the', 'DET'),\n",
       "  ('latest', 'ADJ'),\n",
       "  ('results', 'NOUN'),\n",
       "  ('appear', 'VERB'),\n",
       "  ('in', 'ADP'),\n",
       "  ('today', 'NOUN'),\n",
       "  (\"'s\", 'PRT'),\n",
       "  ('New', 'NOUN'),\n",
       "  ('England', 'NOUN'),\n",
       "  ('Journal', 'NOUN'),\n",
       "  ('of', 'ADP'),\n",
       "  ('Medicine', 'NOUN'),\n",
       "  (',', '.'),\n",
       "  ('a', 'DET'),\n",
       "  ('forum', 'NOUN'),\n",
       "  ('likely', 'ADJ'),\n",
       "  ('*', 'X'),\n",
       "  ('to', 'PRT'),\n",
       "  ('bring', 'VERB'),\n",
       "  ('new', 'ADJ'),\n",
       "  ('attention', 'NOUN'),\n",
       "  ('to', 'PRT'),\n",
       "  ('the', 'DET'),\n",
       "  ('problem', 'NOUN'),\n",
       "  ('.', '.')],\n",
       " [('A', 'DET'),\n",
       "  ('Lorillard', 'NOUN'),\n",
       "  ('spokewoman', 'NOUN'),\n",
       "  ('said', 'VERB'),\n",
       "  (',', '.'),\n",
       "  ('``', '.'),\n",
       "  ('This', 'DET'),\n",
       "  ('is', 'VERB'),\n",
       "  ('an', 'DET'),\n",
       "  ('old', 'ADJ'),\n",
       "  ('story', 'NOUN'),\n",
       "  ('.', '.')],\n",
       " [('We', 'PRON'),\n",
       "  (\"'re\", 'VERB'),\n",
       "  ('talking', 'VERB'),\n",
       "  ('about', 'ADP'),\n",
       "  ('years', 'NOUN'),\n",
       "  ('ago', 'ADP'),\n",
       "  ('before', 'ADP'),\n",
       "  ('anyone', 'NOUN'),\n",
       "  ('heard', 'VERB'),\n",
       "  ('of', 'ADP'),\n",
       "  ('asbestos', 'NOUN'),\n",
       "  ('having', 'VERB'),\n",
       "  ('any', 'DET'),\n",
       "  ('questionable', 'ADJ'),\n",
       "  ('properties', 'NOUN'),\n",
       "  ('.', '.')],\n",
       " [('There', 'DET'),\n",
       "  ('is', 'VERB'),\n",
       "  ('no', 'DET'),\n",
       "  ('asbestos', 'NOUN'),\n",
       "  ('in', 'ADP'),\n",
       "  ('our', 'PRON'),\n",
       "  ('products', 'NOUN'),\n",
       "  ('now', 'ADV'),\n",
       "  ('.', '.'),\n",
       "  (\"''\", '.')]]"
      ]
     },
     "execution_count": 4,
     "metadata": {},
     "output_type": "execute_result"
    }
   ],
   "source": [
    "nltk_data[0:10]"
   ]
  },
  {
   "cell_type": "markdown",
   "metadata": {},
   "source": [
    "Dataset is in the form of list of sentences where each sentence is a list of tuples. Each tuple contains a word and corresponding POS tag.\n",
    "\n",
    "Dataset format:\n",
    "data = [[sent_1], [sent_2], [sent_3],....[sent_n]]\n",
    "\n",
    "where,\n",
    "sent_n = [(word_1, POS_1), (word_2, POS_2),....(word_n, POS_n)]"
   ]
  },
  {
   "cell_type": "markdown",
   "metadata": {},
   "source": [
    "## 2. Train-Test Split"
   ]
  },
  {
   "cell_type": "code",
   "execution_count": 5,
   "metadata": {},
   "outputs": [
    {
     "name": "stdout",
     "output_type": "stream",
     "text": [
      "Train set size: 3718\n",
      " \n",
      "Test set size: 196\n"
     ]
    }
   ],
   "source": [
    "# Splitting into train and test\n",
    "\n",
    "random.seed(42)\n",
    "train_set, test_set = train_test_split(nltk_data, test_size=0.05)\n",
    "\n",
    "print('Train set size:', len(train_set))\n",
    "\n",
    "print(' ')\n",
    "\n",
    "print('Test set size:', len(test_set))"
   ]
  },
  {
   "cell_type": "markdown",
   "metadata": {},
   "source": [
    "We would be using only 5% of the data as test set because Viterbi is a computationally expensive algorithm."
   ]
  },
  {
   "cell_type": "markdown",
   "metadata": {},
   "source": [
    "## 3. EDA"
   ]
  },
  {
   "cell_type": "code",
   "execution_count": 6,
   "metadata": {},
   "outputs": [
    {
     "data": {
      "text/plain": [
       "95558"
      ]
     },
     "execution_count": 6,
     "metadata": {},
     "output_type": "execute_result"
    }
   ],
   "source": [
    "# train tagged words\n",
    "\n",
    "train_tagged_words = [x for y in train_set for x in y]\n",
    "len(train_tagged_words)"
   ]
  },
  {
   "cell_type": "markdown",
   "metadata": {},
   "source": [
    "Train set is having total 95558 tagged words. It can be repeating as well in line to corpus. Same words can be having different POS tags based on its applicability in the sentence."
   ]
  },
  {
   "cell_type": "code",
   "execution_count": 8,
   "metadata": {},
   "outputs": [
    {
     "name": "stdout",
     "output_type": "stream",
     "text": [
      "['The', 'new', 'company', 'will', 'attempt', '*-1', 'to', 'limit', 'the', 'shipyard', \"'s\", 'losses', ',', 'participants', 'said', '0', '*T*-2', '.', 'This', 'species', 'of', 'congressional', 'action', 'is', 'predicated', '*-50', 'on', 'an', 'interpretation', 'of', 'the', 'appropriations', 'clause', 'that', '*T*-1', 'is', 'erroneous', 'and', 'unconstitutional', '.', 'DOONESBURY', \"CREATOR'S\", 'UNION', 'TROUBLES', 'are', 'no', 'laughing', 'matter', '.', 'Everyone']\n"
     ]
    }
   ],
   "source": [
    "# train_words: words in train set\n",
    "\n",
    "train_words = [x[0] for x in train_tagged_words]\n",
    "print(train_words[:50])"
   ]
  },
  {
   "cell_type": "code",
   "execution_count": 9,
   "metadata": {},
   "outputs": [
    {
     "name": "stdout",
     "output_type": "stream",
     "text": [
      "12076\n"
     ]
    }
   ],
   "source": [
    "# train set vocabulary\n",
    "\n",
    "train_vocab = set(train_words)\n",
    "print(len(train_vocab))"
   ]
  },
  {
   "cell_type": "markdown",
   "metadata": {},
   "source": [
    "Total vocabulary size for train set is 12076."
   ]
  },
  {
   "cell_type": "code",
   "execution_count": 10,
   "metadata": {},
   "outputs": [
    {
     "name": "stdout",
     "output_type": "stream",
     "text": [
      "{'ADP', 'NUM', 'ADV', 'PRON', '.', 'PRT', 'X', 'ADJ', 'VERB', 'CONJ', 'NOUN', 'DET'}\n",
      " \n",
      "12\n"
     ]
    }
   ],
   "source": [
    "# tags from train set\n",
    "tags = set([x[1] for x in train_tagged_words])\n",
    "\n",
    "print(tags)\n",
    "\n",
    "print(' ')\n",
    "\n",
    "print(len(tags))"
   ]
  },
  {
   "cell_type": "markdown",
   "metadata": {},
   "source": [
    "Total 12 unique POS tags as per universal tagger standards."
   ]
  },
  {
   "cell_type": "markdown",
   "metadata": {},
   "source": [
    "### Developing Tagger as per Viterbi Algorithm\n",
    "\n",
    "Bayes Theorem:\n",
    "\n",
    "**P(POS|word) = P(word|POS)P(POS)/P(word)**\n",
    "\n",
    "Emission Probability = P(word|POS)\n",
    "\n",
    "Transition Probability = P(POS_n|POS_n-1) \n",
    "\n",
    "Where, \n",
    "\n",
    "`P(POS|word)` is conditional probability of the tag for a given word,\n",
    "\n",
    "`p(word|POS)` is the emission probability or conditional probability of the word for given tag,\n",
    "\n",
    "`p(POS_n|POS_n-1)` is the transition probability or conditional probability of the POS tag for the given previous POS tag."
   ]
  },
  {
   "cell_type": "code",
   "execution_count": 11,
   "metadata": {},
   "outputs": [],
   "source": [
    "# Emission Probability\n",
    "# Here, 'tag' stands for POS tag\n",
    "\n",
    "def emission(word, tag, train = train_tagged_words):\n",
    "    tag_list = [x for x in train if x[1]==tag]\n",
    "    w_given_tag_list = [x[0] for x in tag_list if x[0]==word]\n",
    "    count_tag = len(tag_list)\n",
    "    count_w_given_tag = len(w_given_tag_list)\n",
    "    \n",
    "    return (count_w_given_tag/count_tag)"
   ]
  },
  {
   "cell_type": "code",
   "execution_count": 12,
   "metadata": {},
   "outputs": [],
   "source": [
    "# Transition Probability\n",
    "\n",
    "def transition(t2, t1, train = train_tagged_words):\n",
    "    tags = [x[1] for x in train]\n",
    "    count_t1 = len([x for x in tags if x==t1])\n",
    "    count_t2_t1 = 0\n",
    "    for index in range(len(tags)-1):\n",
    "        if tags[index]==t1 and tags[index+1] == t2:\n",
    "            count_t2_t1 += 1\n",
    "    return (count_t2_t1/count_t1)"
   ]
  },
  {
   "cell_type": "code",
   "execution_count": 13,
   "metadata": {},
   "outputs": [],
   "source": [
    "# creating t x t transition matrix of tags\n",
    "# each column is t2, each row is t1\n",
    "\n",
    "tags_matrix = np.zeros((len(tags), len(tags)), dtype='float32')\n",
    "for i, t1 in enumerate(list(tags)):\n",
    "    for j, t2 in enumerate(list(tags)): \n",
    "        tags_matrix[i, j] = transition(t2, t1)"
   ]
  },
  {
   "cell_type": "code",
   "execution_count": 14,
   "metadata": {},
   "outputs": [
    {
     "data": {
      "text/html": [
       "<div>\n",
       "<style scoped>\n",
       "    .dataframe tbody tr th:only-of-type {\n",
       "        vertical-align: middle;\n",
       "    }\n",
       "\n",
       "    .dataframe tbody tr th {\n",
       "        vertical-align: top;\n",
       "    }\n",
       "\n",
       "    .dataframe thead th {\n",
       "        text-align: right;\n",
       "    }\n",
       "</style>\n",
       "<table border=\"1\" class=\"dataframe\">\n",
       "  <thead>\n",
       "    <tr style=\"text-align: right;\">\n",
       "      <th></th>\n",
       "      <th>ADP</th>\n",
       "      <th>NUM</th>\n",
       "      <th>ADV</th>\n",
       "      <th>PRON</th>\n",
       "      <th>.</th>\n",
       "      <th>PRT</th>\n",
       "      <th>X</th>\n",
       "      <th>ADJ</th>\n",
       "      <th>VERB</th>\n",
       "      <th>CONJ</th>\n",
       "      <th>NOUN</th>\n",
       "      <th>DET</th>\n",
       "    </tr>\n",
       "  </thead>\n",
       "  <tbody>\n",
       "    <tr>\n",
       "      <th>ADP</th>\n",
       "      <td>0.016924</td>\n",
       "      <td>0.063196</td>\n",
       "      <td>0.013068</td>\n",
       "      <td>0.068445</td>\n",
       "      <td>0.040274</td>\n",
       "      <td>0.001285</td>\n",
       "      <td>0.034597</td>\n",
       "      <td>0.106255</td>\n",
       "      <td>0.008355</td>\n",
       "      <td>0.000857</td>\n",
       "      <td>0.322194</td>\n",
       "      <td>0.324550</td>\n",
       "    </tr>\n",
       "    <tr>\n",
       "      <th>NUM</th>\n",
       "      <td>0.034155</td>\n",
       "      <td>0.186813</td>\n",
       "      <td>0.002970</td>\n",
       "      <td>0.001485</td>\n",
       "      <td>0.117612</td>\n",
       "      <td>0.027621</td>\n",
       "      <td>0.213246</td>\n",
       "      <td>0.033561</td>\n",
       "      <td>0.018117</td>\n",
       "      <td>0.012474</td>\n",
       "      <td>0.348381</td>\n",
       "      <td>0.003564</td>\n",
       "    </tr>\n",
       "    <tr>\n",
       "      <th>ADV</th>\n",
       "      <td>0.118058</td>\n",
       "      <td>0.031260</td>\n",
       "      <td>0.078484</td>\n",
       "      <td>0.015298</td>\n",
       "      <td>0.136016</td>\n",
       "      <td>0.013302</td>\n",
       "      <td>0.023612</td>\n",
       "      <td>0.130695</td>\n",
       "      <td>0.346192</td>\n",
       "      <td>0.006984</td>\n",
       "      <td>0.031593</td>\n",
       "      <td>0.068507</td>\n",
       "    </tr>\n",
       "    <tr>\n",
       "      <th>PRON</th>\n",
       "      <td>0.022437</td>\n",
       "      <td>0.007350</td>\n",
       "      <td>0.034429</td>\n",
       "      <td>0.007737</td>\n",
       "      <td>0.042166</td>\n",
       "      <td>0.011992</td>\n",
       "      <td>0.092456</td>\n",
       "      <td>0.071567</td>\n",
       "      <td>0.486267</td>\n",
       "      <td>0.005416</td>\n",
       "      <td>0.208511</td>\n",
       "      <td>0.009671</td>\n",
       "    </tr>\n",
       "    <tr>\n",
       "      <th>.</th>\n",
       "      <td>0.090860</td>\n",
       "      <td>0.081173</td>\n",
       "      <td>0.052740</td>\n",
       "      <td>0.064849</td>\n",
       "      <td>0.092833</td>\n",
       "      <td>0.002332</td>\n",
       "      <td>0.026908</td>\n",
       "      <td>0.044578</td>\n",
       "      <td>0.088618</td>\n",
       "      <td>0.058391</td>\n",
       "      <td>0.222172</td>\n",
       "      <td>0.174455</td>\n",
       "    </tr>\n",
       "    <tr>\n",
       "      <th>PRT</th>\n",
       "      <td>0.020235</td>\n",
       "      <td>0.056789</td>\n",
       "      <td>0.010444</td>\n",
       "      <td>0.016645</td>\n",
       "      <td>0.043407</td>\n",
       "      <td>0.001958</td>\n",
       "      <td>0.013055</td>\n",
       "      <td>0.085836</td>\n",
       "      <td>0.400783</td>\n",
       "      <td>0.002285</td>\n",
       "      <td>0.246084</td>\n",
       "      <td>0.102480</td>\n",
       "    </tr>\n",
       "    <tr>\n",
       "      <th>X</th>\n",
       "      <td>0.144243</td>\n",
       "      <td>0.002863</td>\n",
       "      <td>0.024332</td>\n",
       "      <td>0.056298</td>\n",
       "      <td>0.164917</td>\n",
       "      <td>0.186069</td>\n",
       "      <td>0.074587</td>\n",
       "      <td>0.017017</td>\n",
       "      <td>0.204358</td>\n",
       "      <td>0.010178</td>\n",
       "      <td>0.061546</td>\n",
       "      <td>0.053594</td>\n",
       "    </tr>\n",
       "    <tr>\n",
       "      <th>ADJ</th>\n",
       "      <td>0.078431</td>\n",
       "      <td>0.020102</td>\n",
       "      <td>0.004778</td>\n",
       "      <td>0.000659</td>\n",
       "      <td>0.064591</td>\n",
       "      <td>0.011040</td>\n",
       "      <td>0.020596</td>\n",
       "      <td>0.066733</td>\n",
       "      <td>0.011864</td>\n",
       "      <td>0.016312</td>\n",
       "      <td>0.699951</td>\n",
       "      <td>0.004943</td>\n",
       "    </tr>\n",
       "    <tr>\n",
       "      <th>VERB</th>\n",
       "      <td>0.091128</td>\n",
       "      <td>0.022335</td>\n",
       "      <td>0.082101</td>\n",
       "      <td>0.035564</td>\n",
       "      <td>0.035331</td>\n",
       "      <td>0.031595</td>\n",
       "      <td>0.218210</td>\n",
       "      <td>0.065837</td>\n",
       "      <td>0.167938</td>\n",
       "      <td>0.005214</td>\n",
       "      <td>0.109961</td>\n",
       "      <td>0.134786</td>\n",
       "    </tr>\n",
       "    <tr>\n",
       "      <th>CONJ</th>\n",
       "      <td>0.054130</td>\n",
       "      <td>0.041064</td>\n",
       "      <td>0.055530</td>\n",
       "      <td>0.059729</td>\n",
       "      <td>0.035464</td>\n",
       "      <td>0.004666</td>\n",
       "      <td>0.008866</td>\n",
       "      <td>0.116659</td>\n",
       "      <td>0.152590</td>\n",
       "      <td>0.000467</td>\n",
       "      <td>0.350910</td>\n",
       "      <td>0.119925</td>\n",
       "    </tr>\n",
       "    <tr>\n",
       "      <th>NOUN</th>\n",
       "      <td>0.176185</td>\n",
       "      <td>0.009415</td>\n",
       "      <td>0.017005</td>\n",
       "      <td>0.004671</td>\n",
       "      <td>0.240266</td>\n",
       "      <td>0.043827</td>\n",
       "      <td>0.029194</td>\n",
       "      <td>0.012079</td>\n",
       "      <td>0.146991</td>\n",
       "      <td>0.042514</td>\n",
       "      <td>0.264606</td>\n",
       "      <td>0.013247</td>\n",
       "    </tr>\n",
       "    <tr>\n",
       "      <th>DET</th>\n",
       "      <td>0.009280</td>\n",
       "      <td>0.022056</td>\n",
       "      <td>0.013017</td>\n",
       "      <td>0.003616</td>\n",
       "      <td>0.017838</td>\n",
       "      <td>0.000241</td>\n",
       "      <td>0.045800</td>\n",
       "      <td>0.203327</td>\n",
       "      <td>0.039412</td>\n",
       "      <td>0.000482</td>\n",
       "      <td>0.639508</td>\n",
       "      <td>0.005424</td>\n",
       "    </tr>\n",
       "  </tbody>\n",
       "</table>\n",
       "</div>"
      ],
      "text/plain": [
       "           ADP       NUM       ADV      PRON         .       PRT         X  \\\n",
       "ADP   0.016924  0.063196  0.013068  0.068445  0.040274  0.001285  0.034597   \n",
       "NUM   0.034155  0.186813  0.002970  0.001485  0.117612  0.027621  0.213246   \n",
       "ADV   0.118058  0.031260  0.078484  0.015298  0.136016  0.013302  0.023612   \n",
       "PRON  0.022437  0.007350  0.034429  0.007737  0.042166  0.011992  0.092456   \n",
       ".     0.090860  0.081173  0.052740  0.064849  0.092833  0.002332  0.026908   \n",
       "PRT   0.020235  0.056789  0.010444  0.016645  0.043407  0.001958  0.013055   \n",
       "X     0.144243  0.002863  0.024332  0.056298  0.164917  0.186069  0.074587   \n",
       "ADJ   0.078431  0.020102  0.004778  0.000659  0.064591  0.011040  0.020596   \n",
       "VERB  0.091128  0.022335  0.082101  0.035564  0.035331  0.031595  0.218210   \n",
       "CONJ  0.054130  0.041064  0.055530  0.059729  0.035464  0.004666  0.008866   \n",
       "NOUN  0.176185  0.009415  0.017005  0.004671  0.240266  0.043827  0.029194   \n",
       "DET   0.009280  0.022056  0.013017  0.003616  0.017838  0.000241  0.045800   \n",
       "\n",
       "           ADJ      VERB      CONJ      NOUN       DET  \n",
       "ADP   0.106255  0.008355  0.000857  0.322194  0.324550  \n",
       "NUM   0.033561  0.018117  0.012474  0.348381  0.003564  \n",
       "ADV   0.130695  0.346192  0.006984  0.031593  0.068507  \n",
       "PRON  0.071567  0.486267  0.005416  0.208511  0.009671  \n",
       ".     0.044578  0.088618  0.058391  0.222172  0.174455  \n",
       "PRT   0.085836  0.400783  0.002285  0.246084  0.102480  \n",
       "X     0.017017  0.204358  0.010178  0.061546  0.053594  \n",
       "ADJ   0.066733  0.011864  0.016312  0.699951  0.004943  \n",
       "VERB  0.065837  0.167938  0.005214  0.109961  0.134786  \n",
       "CONJ  0.116659  0.152590  0.000467  0.350910  0.119925  \n",
       "NOUN  0.012079  0.146991  0.042514  0.264606  0.013247  \n",
       "DET   0.203327  0.039412  0.000482  0.639508  0.005424  "
      ]
     },
     "execution_count": 14,
     "metadata": {},
     "output_type": "execute_result"
    }
   ],
   "source": [
    "# convert the matrix to a df for better readability\n",
    "\n",
    "tags_df = pd.DataFrame(tags_matrix, columns = list(tags), index=list(tags))\n",
    "tags_df"
   ]
  },
  {
   "cell_type": "code",
   "execution_count": 15,
   "metadata": {},
   "outputs": [
    {
     "data": {
      "image/png": "[encoded data removed]",
      "text/plain": [
       "<Figure size 1080x1080 with 2 Axes>"
      ]
     },
     "metadata": {
      "needs_background": "light"
     },
     "output_type": "display_data"
    }
   ],
   "source": [
    "# transition map\n",
    "\n",
    "plt.figure(figsize=(15, 15))\n",
    "sns.heatmap(tags_df, cmap='YlGnBu', annot=True)\n",
    "plt.show()"
   ]
  },
  {
   "cell_type": "markdown",
   "metadata": {},
   "source": [
    "Observation,\n",
    "- DET followed by NOUN is having probability of 0.64.\n",
    "- ADJ followed by NOUN is having probability of 0.7.\n",
    "- PRON followed by VERB is having probability of 0.49."
   ]
  },
  {
   "cell_type": "code",
   "execution_count": 23,
   "metadata": {},
   "outputs": [],
   "source": [
    "# Developing Viterbi algorithm funcation: Returns words and corresponding predicted POS tag\n",
    "\n",
    "\n",
    "def Viter1(words, train_bag = train_tagged_words):\n",
    "    count1 = 0\n",
    "    state = []\n",
    "    \n",
    "    for key, word in enumerate(words):\n",
    "        p = [] \n",
    "        for tag in tags:\n",
    "            if key == 0:\n",
    "                transition_p = tags_df.loc['.', tag]\n",
    "            else:\n",
    "                transition_p = tags_df.loc[state[-1], tag]\n",
    "                \n",
    "            emission_p = emission(word, tag)\n",
    "            state_probability = emission_p * transition_p    \n",
    "            p.append(state_probability)\n",
    "                       \n",
    "        pmax = max(p)\n",
    "        T = list(tags)\n",
    "        state_max = T[p.index(pmax)] \n",
    "        state.append(state_max)\n",
    "        print(count1, word, state_max)\n",
    "        count1 += 1\n",
    "    return list(zip(words, state))"
   ]
  },
  {
   "cell_type": "code",
   "execution_count": 82,
   "metadata": {
    "scrolled": true
   },
   "outputs": [],
   "source": [
    "start = time.time()\n",
    "test_pred = Viter1([x[0] for y in test_set for x in y])\n",
    "end = time.time()\n",
    "difference = end-start\n",
    "print(\"Time taken (in seconds): \", difference)"
   ]
  },
  {
   "cell_type": "code",
   "execution_count": 27,
   "metadata": {},
   "outputs": [
    {
     "data": {
      "text/plain": [
       "0.9038686987104337"
      ]
     },
     "execution_count": 27,
     "metadata": {},
     "output_type": "execute_result"
    }
   ],
   "source": [
    "# accuracy check\n",
    "# wrong_pos --> there are words which are wrongly tagged by our tagger\n",
    "\n",
    "test_tagged_words = [x for y in test_set for x in y]\n",
    "wrong_pos = [(i,j,k) for i,j,k in list(zip([x[0] for x in test_tagged_words],\n",
    "                                  [x[1] for x in test_tagged_words],\n",
    "                                  [x[1] for x in test_pred])) if j != k]\n",
    "accuracy1 = 1-len(wrong_pos)/len(test_tagged_words)\n",
    "accuracy1"
   ]
  },
  {
   "cell_type": "markdown",
   "metadata": {},
   "source": [
    "We are getting accuracy of ~90% on the test set, which is good. But let's try to improve it further."
   ]
  },
  {
   "cell_type": "markdown",
   "metadata": {},
   "source": [
    "#### Checking unknown words\n",
    "\n",
    "- Words which are not present in train set but are there in test set. These words would be having emission probability of 0.\n",
    "- We would be using `Regular Expression` based tagger for unknown words instead of using Viterbi method\n",
    "\n",
    "`Regular Expression` based Tagger: We use a set of rules to define the POS for the given word. Rules can be related to alphabets in word itself. e.g. words ending with 'ing' should be tagged as VERB. "
   ]
  },
  {
   "cell_type": "code",
   "execution_count": 83,
   "metadata": {
    "scrolled": true
   },
   "outputs": [
    {
     "data": {
      "text/plain": [
       "[('eight-count', 'ADJ', 'ADP'),\n",
       " ('indictment', 'NOUN', 'ADP'),\n",
       " ('Vice', 'NOUN', 'ADP'),\n",
       " ('Sherwin', 'NOUN', 'ADP'),\n",
       " ('manipulate', 'VERB', 'ADP'),\n",
       " ('Carbide', 'NOUN', 'ADP'),\n",
       " ('daughters', 'NOUN', 'ADP'),\n",
       " ('Pierre', 'NOUN', 'ADP'),\n",
       " ('accounted', 'VERB', 'ADP'),\n",
       " ('sterling', 'NOUN', 'ADP')]"
      ]
     },
     "execution_count": 83,
     "metadata": {},
     "output_type": "execute_result"
    }
   ],
   "source": [
    "unknown_words_pos = [x for x in wrong_pos if x[0] not in train_vocab]\n",
    "unknown_words_pos[0:10]"
   ]
  },
  {
   "cell_type": "markdown",
   "metadata": {},
   "source": [
    "This is a subset of wrongly tagged words which are not present in training set."
   ]
  },
  {
   "cell_type": "code",
   "execution_count": 30,
   "metadata": {},
   "outputs": [
    {
     "data": {
      "image/png": "[encoded data removed]",
      "text/plain": [
       "<Figure size 432x288 with 1 Axes>"
      ]
     },
     "metadata": {
      "needs_background": "light"
     },
     "output_type": "display_data"
    },
    {
     "data": {
      "text/plain": [
       "<AxesSubplot:xlabel='Samples', ylabel='Counts'>"
      ]
     },
     "execution_count": 30,
     "metadata": {},
     "output_type": "execute_result"
    }
   ],
   "source": [
    "# Checking distribution of unknown words POs tags\n",
    "\n",
    "FreqDist([x[1] for x in unknown_words_pos]).plot()"
   ]
  },
  {
   "cell_type": "markdown",
   "metadata": {},
   "source": [
    "Observation,\n",
    "- Tagger unable to tag `NOUN`, `VERB`, `ADJ`, `NUM`, `X` and `ADV` from unknown group of words. It is assigning all above kind to `ADP` because `ADP` is the first tag in out transition probability matrix. \n",
    "\n",
    "\n",
    "Next, lets do analysis of words from unknown group and try to develop a set of rules to tag them correctly."
   ]
  },
  {
   "cell_type": "markdown",
   "metadata": {},
   "source": [
    "#### VERB analysis"
   ]
  },
  {
   "cell_type": "code",
   "execution_count": 41,
   "metadata": {
    "scrolled": true
   },
   "outputs": [
    {
     "name": "stdout",
     "output_type": "stream",
     "text": [
      "[('manipulate', 'VERB', 'ADP'), ('accounted', 'VERB', 'ADP'), ('practicing', 'VERB', 'ADP'), ('fumes', 'VERB', 'ADP'), ('designing', 'VERB', 'ADP'), ('desired', 'VERB', 'ADP'), ('bombarding', 'VERB', 'ADP'), ('blurred', 'VERB', 'ADP'), ('double', 'VERB', 'ADP'), ('functioning', 'VERB', 'ADP'), ('curtailed', 'VERB', 'ADP'), ('accrue', 'VERB', 'ADP'), ('apologize', 'VERB', 'ADP'), ('stimulated', 'VERB', 'ADP'), ('saving', 'VERB', 'ADP'), ('demobilize', 'VERB', 'ADP'), ('tailoring', 'VERB', 'ADP'), ('notify', 'VERB', 'ADP'), ('completing', 'VERB', 'ADP'), ('assessed', 'VERB', 'ADP'), ('desired', 'VERB', 'ADP'), ('dressed', 'VERB', 'ADP'), ('decorated', 'VERB', 'ADP'), ('Regarded', 'VERB', 'ADP'), ('ENDED', 'VERB', 'ADP'), ('Encouraging', 'VERB', 'ADP'), ('drooled', 'VERB', 'ADP'), ('fly', 'VERB', 'ADP'), ('fly', 'VERB', 'ADP'), ('alienated', 'VERB', 'ADP'), ('consists', 'VERB', 'ADP'), ('concede', 'VERB', 'ADP'), ('tempts', 'VERB', 'ADP'), ('frustrating', 'VERB', 'ADP'), ('invent', 'VERB', 'ADP'), ('whistle', 'VERB', 'ADP'), ('revised', 'VERB', 'ADP'), ('aces', 'VERB', 'ADP'), ('slash', 'VERB', 'ADP'), ('conducted', 'VERB', 'ADP'), ('CLEARS', 'VERB', 'ADP'), ('mandates', 'VERB', 'ADP'), ('ignored', 'VERB', 'ADP'), ('cooperating', 'VERB', 'ADP'), ('mirrors', 'VERB', 'ADP'), ('emerged', 'VERB', 'ADP'), ('muscling', 'VERB', 'ADP'), ('investigate', 'VERB', 'ADP'), ('stuck', 'VERB', 'ADP'), ('pine', 'VERB', 'ADP'), ('shed', 'VERB', 'ADP'), ('please', 'VERB', 'ADP'), ('juggle', 'VERB', 'ADP'), ('borrowed', 'VERB', 'ADP'), ('exhibits', 'VERB', 'ADP'), ('Reducing', 'VERB', 'ADP'), ('herald', 'VERB', 'ADP'), ('shake', 'VERB', 'ADP'), ('receives', 'VERB', 'ADP'), ('fashioned', 'VERB', 'ADP'), ('offend', 'VERB', 'ADP'), ('crying', 'VERB', 'ADP'), ('waived', 'VERB', 'ADP'), ('heading', 'VERB', 'ADP'), ('relied', 'VERB', 'ADP')]\n",
      " \n",
      "65\n"
     ]
    }
   ],
   "source": [
    "print([x for x in unknown_words_pos if x[1] =='VERB'])\n",
    "\n",
    "print(' ')\n",
    "\n",
    "print(len([x for x in unknown_words_pos if x[1] =='VERB']))"
   ]
  },
  {
   "cell_type": "code",
   "execution_count": 32,
   "metadata": {},
   "outputs": [
    {
     "name": "stdout",
     "output_type": "stream",
     "text": [
      "['practicing', 'designing', 'bombarding', 'functioning', 'saving', 'tailoring', 'completing', 'Encouraging', 'frustrating', 'cooperating', 'muscling', 'Reducing', 'crying', 'heading']\n",
      " \n",
      "14\n"
     ]
    }
   ],
   "source": [
    "print([x[0] for x in unknown_words_pos if x[1] =='VERB' and x[0].endswith('ing')])\n",
    "\n",
    "print(' ')\n",
    "\n",
    "print(len([x[0] for x in unknown_words_pos if x[1] =='VERB' and x[0].endswith('ing')]))"
   ]
  },
  {
   "cell_type": "code",
   "execution_count": 33,
   "metadata": {},
   "outputs": [
    {
     "name": "stdout",
     "output_type": "stream",
     "text": [
      "['accounted', 'desired', 'blurred', 'curtailed', 'stimulated', 'assessed', 'desired', 'dressed', 'decorated', 'Regarded', 'drooled', 'alienated', 'revised', 'conducted', 'ignored', 'emerged', 'shed', 'borrowed', 'fashioned', 'waived', 'relied']\n",
      " \n",
      "21\n"
     ]
    }
   ],
   "source": [
    "print([x[0] for x in unknown_words_pos if x[1] =='VERB' and x[0].endswith('ed')])\n",
    "\n",
    "print(' ')\n",
    "\n",
    "print(len([x[0] for x in unknown_words_pos if x[1] =='VERB' and x[0].endswith('ed')]))"
   ]
  },
  {
   "cell_type": "code",
   "execution_count": 34,
   "metadata": {},
   "outputs": [
    {
     "name": "stdout",
     "output_type": "stream",
     "text": [
      "['fumes', 'aces', 'mandates', 'receives']\n",
      " \n",
      "4\n"
     ]
    }
   ],
   "source": [
    "print([x[0] for x in unknown_words_pos if x[1] =='VERB' and x[0].endswith('es')])\n",
    "\n",
    "print(' ')\n",
    "\n",
    "print(len([x[0] for x in unknown_words_pos if x[1] =='VERB' and x[0].endswith('es')]))"
   ]
  },
  {
   "cell_type": "markdown",
   "metadata": {},
   "source": [
    "We can see many words which are ending with 'ing' or 'ed' or 'es' which are actually verbs but tagged as 'ADP'. Hence we would defined rules for that."
   ]
  },
  {
   "cell_type": "code",
   "execution_count": 35,
   "metadata": {},
   "outputs": [],
   "source": [
    "patterns_verb = [\n",
    "    (r'.*ing$', 'VERB'),              # gerund\n",
    "    (r'.*ed$', 'VERB'),               # past tense\n",
    "    (r'.*es$', 'VERB'),               # 3rd singular present\n",
    "]"
   ]
  },
  {
   "cell_type": "markdown",
   "metadata": {},
   "source": [
    "#### ADV analysis"
   ]
  },
  {
   "cell_type": "code",
   "execution_count": 40,
   "metadata": {},
   "outputs": [
    {
     "name": "stdout",
     "output_type": "stream",
     "text": [
      "[('repeatedly', 'ADV', 'ADP'), ('inaccurately', 'ADV', 'ADP'), ('unbearably', 'ADV', 'ADP'), ('sufficiently', 'ADV', 'ADP'), ('enormously', 'ADV', 'ADP'), ('barely', 'ADV', 'ADP'), ('Invariably', 'ADV', 'ADP'), ('noncompetitively', 'ADV', 'ADP'), ('narrowly', 'ADV', 'ADP'), ('wildly', 'ADV', 'ADP'), ('awfully', 'ADV', 'ADP')]\n",
      " \n",
      "11\n"
     ]
    }
   ],
   "source": [
    "print([x for x in unknown_words_pos if x[1] =='ADV'])\n",
    "\n",
    "print(' ')\n",
    "\n",
    "print(len([x for x in unknown_words_pos if x[1] =='ADV']))"
   ]
  },
  {
   "cell_type": "code",
   "execution_count": 37,
   "metadata": {},
   "outputs": [
    {
     "name": "stdout",
     "output_type": "stream",
     "text": [
      "['repeatedly', 'inaccurately', 'unbearably', 'sufficiently', 'enormously', 'barely', 'Invariably', 'noncompetitively', 'narrowly', 'wildly', 'awfully']\n",
      " \n",
      "11\n"
     ]
    }
   ],
   "source": [
    "print([x[0] for x in unknown_words_pos if x[1] =='ADV' and x[0].endswith('ly')])\n",
    "\n",
    "print(' ')\n",
    "\n",
    "print(len([x[0] for x in unknown_words_pos if x[1] =='ADV' and x[0].endswith('ly')]))"
   ]
  },
  {
   "cell_type": "markdown",
   "metadata": {},
   "source": [
    "We can see many words which are ending with 'ly' which are actually 'ADV' but tagged as 'ADP'. Hence we would defined rule for that."
   ]
  },
  {
   "cell_type": "code",
   "execution_count": 38,
   "metadata": {},
   "outputs": [],
   "source": [
    "patterns_adv = [\n",
    "    (r'.*ly$', 'ADV')\n",
    "]"
   ]
  },
  {
   "cell_type": "markdown",
   "metadata": {},
   "source": [
    "#### X Analysis"
   ]
  },
  {
   "cell_type": "code",
   "execution_count": 42,
   "metadata": {},
   "outputs": [
    {
     "name": "stdout",
     "output_type": "stream",
     "text": [
      "[('*-133', 'X', 'ADP'), ('*-141', 'X', 'ADP'), ('*-113', 'X', 'ADP'), ('*-82', 'X', 'ADP'), ('*T*-180', 'X', 'ADP'), ('*T*-105', 'X', 'ADP'), ('*T*-235', 'X', 'ADP'), ('*T*-178', 'X', 'ADP'), ('*-139', 'X', 'ADP'), ('*-160', 'X', 'ADP'), ('*T*-221', 'X', 'ADP'), ('*T*-126', 'X', 'ADP'), ('*T*-154', 'X', 'ADP')]\n",
      " \n",
      "13\n"
     ]
    }
   ],
   "source": [
    "print([x for x in unknown_words_pos if x[1] =='X'])\n",
    "\n",
    "print(' ')\n",
    "\n",
    "print(len([x for x in unknown_words_pos if x[1] =='X']))"
   ]
  },
  {
   "cell_type": "markdown",
   "metadata": {},
   "source": [
    "These are the foreign words which should be tagged as 'X' but are predicted as 'ADP'. We can't define as any rule for such words. Hence, we would leave them as it is."
   ]
  },
  {
   "cell_type": "markdown",
   "metadata": {},
   "source": [
    "#### NOUN Analysis"
   ]
  },
  {
   "cell_type": "code",
   "execution_count": 43,
   "metadata": {},
   "outputs": [
    {
     "name": "stdout",
     "output_type": "stream",
     "text": [
      "[('indictment', 'NOUN', 'ADP'), ('Vice', 'NOUN', 'ADP'), ('Sherwin', 'NOUN', 'ADP'), ('Carbide', 'NOUN', 'ADP'), ('daughters', 'NOUN', 'ADP'), ('Pierre', 'NOUN', 'ADP'), ('sterling', 'NOUN', 'ADP'), ('Menem', 'NOUN', 'ADP'), ('Rate', 'NOUN', 'ADP'), ('Monitor', 'NOUN', 'ADP'), ('garbage', 'NOUN', 'ADP'), ('neutrons', 'NOUN', 'ADP'), ('radioactivity', 'NOUN', 'ADP'), ('Composer', 'NOUN', 'ADP'), ('Marc', 'NOUN', 'ADP'), ('Marder', 'NOUN', 'ADP'), ('bass', 'NOUN', 'ADP'), ('ensembles', 'NOUN', 'ADP'), ('characters', 'NOUN', 'ADP'), ('intertitles', 'NOUN', 'ADP'), ('Bradford', 'NOUN', 'ADP'), ('C.D.s', 'NOUN', 'ADP'), ('Latin', 'NOUN', 'ADP'), ('surpluses', 'NOUN', 'ADP'), ('CERTIFICATES', 'NOUN', 'ADP'), ('DEPOSIT', 'NOUN', 'ADP'), ('Paso', 'NOUN', 'ADP'), ('boots', 'NOUN', 'ADP'), ('leather', 'NOUN', 'ADP'), ('envoy', 'NOUN', 'ADP'), ('Teikoku', 'NOUN', 'ADP'), ('Blackstone', 'NOUN', 'ADP'), ('History', 'NOUN', 'ADP'), ('crane-safety', 'NOUN', 'ADP'), ('Video', 'NOUN', 'ADP'), ('Tip', 'NOUN', 'ADP'), ('Judie', 'NOUN', 'ADP'), ('Jacksonville', 'NOUN', 'ADP'), ('sub-segments', 'NOUN', 'ADP'), ('styles', 'NOUN', 'ADP'), ('Middlesex', 'NOUN', 'ADP'), ('Water', 'NOUN', 'ADP'), ('Walker', 'NOUN', 'ADP'), ('Howard', 'NOUN', 'ADP'), ('Weil', 'NOUN', 'ADP'), ('Labouisse', 'NOUN', 'ADP'), ('Friedrichs', 'NOUN', 'ADP'), ('presentation', 'NOUN', 'ADP'), ('signature', 'NOUN', 'ADP'), ('Courts', 'NOUN', 'ADP'), ('pills', 'NOUN', 'ADP'), ('proportion', 'NOUN', 'ADP'), ('Kelli', 'NOUN', 'ADP'), ('Green', 'NOUN', 'ADP'), ('ministers', 'NOUN', 'ADP'), ('borrowings', 'NOUN', 'ADP'), ('torrent', 'NOUN', 'ADP'), ('Solihull', 'NOUN', 'ADP'), ('beer-belly', 'NOUN', 'ADP'), ('Compound', 'NOUN', 'ADP'), ('reinvestment', 'NOUN', 'ADP'), ('Constitutional', 'NOUN', 'ADP'), ('Convention', 'NOUN', 'ADP'), ('designation', 'NOUN', 'ADP'), ('ORTEGA', 'NOUN', 'ADP'), ('fancy', 'NOUN', 'ADP'), ('roadblock', 'NOUN', 'ADP'), ('Fortune', 'NOUN', 'ADP'), ('schoolboys', 'NOUN', 'ADP'), ('Crime', 'NOUN', 'ADP'), ('enrollment', 'NOUN', 'ADP'), ('honors', 'NOUN', 'ADP'), ('destination', 'NOUN', 'ADP'), ('companion', 'NOUN', 'ADP'), ('sociology', 'NOUN', 'ADP'), ('belt', 'NOUN', 'ADP'), ('ire', 'NOUN', 'ADP'), ('examinations', 'NOUN', 'ADP'), ('harassment', 'NOUN', 'ADP'), ('polls', 'NOUN', 'ADP'), ('heartland', 'NOUN', 'ADP'), ('science', 'NOUN', 'ADP'), ('Walkman', 'NOUN', 'ADP'), ('daughters', 'NOUN', 'ADP'), ('Characters', 'NOUN', 'ADP'), ('Salty', 'NOUN', 'ADP'), ('Dogs', 'NOUN', 'ADP'), ('Johnny', 'NOUN', 'ADP'), ('Goode', 'NOUN', 'ADP'), ('Bugs', 'NOUN', 'ADP'), ('Bunny', 'NOUN', 'ADP'), ('MERRILL', 'NOUN', 'ADP'), ('LYNCH', 'NOUN', 'ADP'), ('READY', 'NOUN', 'ADP'), ('ASSETS', 'NOUN', 'ADP'), ('TRUST', 'NOUN', 'ADP'), ('Confidence', 'NOUN', 'ADP'), ('A-D', 'NOUN', 'ADP'), ('constitutional-law', 'NOUN', 'ADP'), ('Landis', 'NOUN', 'ADP'), ('everybody', 'NOUN', 'ADP'), ('psychiatrist', 'NOUN', 'ADP'), ('restraints', 'NOUN', 'ADP'), ('Opinion', 'NOUN', 'ADP'), ('Lt.', 'NOUN', 'ADP'), ('Greer', 'NOUN', 'ADP'), ('persuasion', 'NOUN', 'ADP'), ('tour', 'NOUN', 'ADP'), ('INQUIRY', 'NOUN', 'ADP'), ('TEXAS', 'NOUN', 'ADP'), ('JUDGE', 'NOUN', 'ADP'), ('Johnson-era', 'NOUN', 'ADP'), ('diversification', 'NOUN', 'ADP'), ('fashion', 'NOUN', 'ADP'), ('journal', 'NOUN', 'ADP'), ('Nature', 'NOUN', 'ADP'), ('Confederation', 'NOUN', 'ADP'), ('Articles', 'NOUN', 'ADP'), ('Confederation', 'NOUN', 'ADP'), ('mania', 'NOUN', 'ADP'), ('sweater', 'NOUN', 'ADP'), ('hits', 'NOUN', 'ADP'), ('C-130', 'NOUN', 'ADP'), ('sight', 'NOUN', 'ADP'), ('R.I.', 'NOUN', 'ADP'), ('Raleigh', 'NOUN', 'ADP'), ('Ky.', 'NOUN', 'ADP'), ('Eveready', 'NOUN', 'ADP'), ('Thai', 'NOUN', 'ADP'), ('cabinet', 'NOUN', 'ADP'), ('Pramual', 'NOUN', 'ADP'), ('Sabhavasu', 'NOUN', 'ADP'), ('juggernaut', 'NOUN', 'ADP'), ('Schaefer', 'NOUN', 'ADP'), ('Skokie', 'NOUN', 'ADP'), ('opinions', 'NOUN', 'ADP'), ('Policies', 'NOUN', 'ADP'), ('Buyers', 'NOUN', 'ADP'), ('desires', 'NOUN', 'ADP'), ('Suisse', 'NOUN', 'ADP'), ('salaries', 'NOUN', 'ADP'), ('Makato', 'NOUN', 'ADP'), ('Utsumi', 'NOUN', 'ADP'), ('Goodman', 'NOUN', 'ADP'), ('document', 'NOUN', 'ADP'), ('Form', 'NOUN', 'ADP'), ('bribery', 'NOUN', 'ADP'), ('lender', 'NOUN', 'ADP'), ('Drobnick', 'NOUN', 'ADP'), ('Helsinki', 'NOUN', 'ADP'), ('handful', 'NOUN', 'ADP'), ('Adolph', 'NOUN', 'ADP'), ('Coors', 'NOUN', 'ADP'), ('Bumkins', 'NOUN', 'ADP')]\n",
      " \n",
      "154\n"
     ]
    }
   ],
   "source": [
    "print([x for x in unknown_words_pos if x[1] =='NOUN'])\n",
    "\n",
    "print(' ')\n",
    "\n",
    "print(len([x for x in unknown_words_pos if x[1] =='NOUN']))"
   ]
  },
  {
   "cell_type": "code",
   "execution_count": 45,
   "metadata": {},
   "outputs": [
    {
     "name": "stdout",
     "output_type": "stream",
     "text": [
      "['daughters', 'neutrons', 'bass', 'ensembles', 'characters', 'intertitles', 'C.D.s', 'surpluses', 'boots', 'sub-segments', 'styles', 'Friedrichs', 'Courts', 'pills', 'ministers', 'borrowings', 'schoolboys', 'honors', 'examinations', 'polls', 'daughters', 'Characters', 'Dogs', 'Bugs', 'Landis', 'restraints', 'Articles', 'hits', 'opinions', 'Policies', 'Buyers', 'desires', 'salaries', 'Coors', 'Bumkins']\n",
      " \n",
      "35\n"
     ]
    }
   ],
   "source": [
    "print([x[0] for x in unknown_words_pos if x[1] =='NOUN' and x[0].endswith('s')])\n",
    "\n",
    "print(' ')\n",
    "\n",
    "print(len([x[0] for x in unknown_words_pos if x[1] =='NOUN' and x[0].endswith('s')]))"
   ]
  },
  {
   "cell_type": "markdown",
   "metadata": {},
   "source": [
    "We can see many words which are ending with 's' which are actually 'NOUN' but tagged as 'ADP'. Hence we would defined rule for that."
   ]
  },
  {
   "cell_type": "code",
   "execution_count": 46,
   "metadata": {},
   "outputs": [],
   "source": [
    "patterns_noun = [\n",
    "        (r'.*s$', 'NOUN'),              # plural nouns\n",
    "]"
   ]
  },
  {
   "cell_type": "markdown",
   "metadata": {},
   "source": [
    "#### ADJ Analysis"
   ]
  },
  {
   "cell_type": "code",
   "execution_count": 47,
   "metadata": {},
   "outputs": [
    {
     "name": "stdout",
     "output_type": "stream",
     "text": [
      "[('eight-count', 'ADJ', 'ADP'), ('metropolitan', 'ADJ', 'ADP'), ('journalistic', 'ADJ', 'ADP'), ('large-scale', 'ADJ', 'ADP'), ('facial', 'ADJ', 'ADP'), ('double', 'ADJ', 'ADP'), ('classical', 'ADJ', 'ADP'), ('exciting', 'ADJ', 'ADP'), ('eclectic', 'ADJ', 'ADP'), ('negotiable', 'ADJ', 'ADP'), ('land-idling', 'ADJ', 'ADP'), ('price-depressing', 'ADJ', 'ADP'), ('labor-backed', 'ADJ', 'ADP'), ('unofficial', 'ADJ', 'ADP'), ('packed', 'ADJ', 'ADP'), ('pre-approved', 'ADJ', 'ADP'), ('finest', 'ADJ', 'ADP'), ('genuine', 'ADJ', 'ADP'), ('touchy', 'ADJ', 'ADP'), ('one-house', 'ADJ', 'ADP'), ('bicameral', 'ADJ', 'ADP'), ('unwashed', 'ADJ', 'ADP'), ('flatulent', 'ADJ', 'ADP'), ('whimsical', 'ADJ', 'ADP'), ('enviable', 'ADJ', 'ADP'), ('inauspicious', 'ADJ', 'ADP'), ('generous', 'ADJ', 'ADP'), ('low-tech', 'ADJ', 'ADP'), ('strategic', 'ADJ', 'ADP'), ('proof', 'ADJ', 'ADP'), ('high-volume', 'ADJ', 'ADP'), ('awful', 'ADJ', 'ADP'), ('would-be', 'ADJ', 'ADP'), ('year-long', 'ADJ', 'ADP'), ('red-carpet', 'ADJ', 'ADP'), ('raring', 'ADJ', 'ADP'), ('87-store', 'ADJ', 'ADP'), ('industry-supported', 'ADJ', 'ADP'), ('gubernatorial', 'ADJ', 'ADP'), ('impressive', 'ADJ', 'ADP'), ('undiplomatic', 'ADJ', 'ADP'), ('unitary', 'ADJ', 'ADP'), ('weapons-modernization', 'ADJ', 'ADP'), ('disaster-assistance', 'ADJ', 'ADP'), ('suburban', 'ADJ', 'ADP'), ('high-balance', 'ADJ', 'ADP'), ('akin', 'ADJ', 'ADP'), ('old-style', 'ADJ', 'ADP'), ('untrained', 'ADJ', 'ADP'), ('botched', 'ADJ', 'ADP'), ('lynch-mob', 'ADJ', 'ADP'), ('Long-term', 'ADJ', 'ADP'), ('fuller', 'ADJ', 'ADP'), ('supplemental', 'ADJ', 'ADP'), ('anti-drug', 'ADJ', 'ADP'), ('nondurable', 'ADJ', 'ADP')]\n",
      " \n",
      "56\n"
     ]
    }
   ],
   "source": [
    "print([x for x in unknown_words_pos if x[1] =='ADJ'])\n",
    "\n",
    "print(' ')\n",
    "\n",
    "print(len([x for x in unknown_words_pos if x[1] =='ADJ']))"
   ]
  },
  {
   "cell_type": "code",
   "execution_count": 48,
   "metadata": {},
   "outputs": [
    {
     "name": "stdout",
     "output_type": "stream",
     "text": [
      "['finest']\n",
      " \n",
      "1\n"
     ]
    }
   ],
   "source": [
    "print([x[0] for x in unknown_words_pos if x[1] =='ADJ' and x[0].endswith('est')])\n",
    "\n",
    "print(' ')\n",
    "\n",
    "print(len([x[0] for x in unknown_words_pos if x[1] =='ADJ' and x[0].endswith('est')]))"
   ]
  },
  {
   "cell_type": "markdown",
   "metadata": {},
   "source": [
    "There are a few words ending with 'est' should be considered as 'ADJ'. These words are very less in count. Hence, we would not try to assign any rule. This is to avoid any sort of over-fitting and try to define as generic rules as possible."
   ]
  },
  {
   "cell_type": "markdown",
   "metadata": {},
   "source": [
    "#### NUM Analysis"
   ]
  },
  {
   "cell_type": "code",
   "execution_count": 49,
   "metadata": {},
   "outputs": [
    {
     "name": "stdout",
     "output_type": "stream",
     "text": [
      "[('257', 'NUM', 'ADP'), ('1.9', 'NUM', 'ADP'), ('8.06', 'NUM', 'ADP'), ('78', 'NUM', 'ADP'), ('47.1', 'NUM', 'ADP'), ('1,460', 'NUM', 'ADP'), ('150,000', 'NUM', 'ADP'), ('1995', 'NUM', 'ADP'), ('9\\\\/32', 'NUM', 'ADP'), ('103', 'NUM', 'ADP'), ('11.10', 'NUM', 'ADP'), ('1787', 'NUM', 'ADP'), ('2,099', 'NUM', 'ADP'), ('721', 'NUM', 'ADP'), ('2.62', 'NUM', 'ADP'), ('598', 'NUM', 'ADP'), ('2.07', 'NUM', 'ADP'), ('143.93', 'NUM', 'ADP'), ('143.08', 'NUM', 'ADP'), ('8.64', 'NUM', 'ADP'), ('1986-87', 'NUM', 'ADP'), ('1987-88', 'NUM', 'ADP'), ('116.4', 'NUM', 'ADP'), ('116.3', 'NUM', 'ADP'), ('1991-1999', 'NUM', 'ADP'), ('87.5', 'NUM', 'ADP'), ('38.875', 'NUM', 'ADP'), ('0.54', 'NUM', 'ADP'), ('14.26', 'NUM', 'ADP'), ('415.6', 'NUM', 'ADP'), ('415.8', 'NUM', 'ADP'), ('4.898', 'NUM', 'ADP'), ('1.457', 'NUM', 'ADP'), ('0.3', 'NUM', 'ADP'), ('0.3', 'NUM', 'ADP'), ('109.73', 'NUM', 'ADP'), ('17.5', 'NUM', 'ADP'), ('2160.1', 'NUM', 'ADP')]\n",
      " \n",
      "38\n"
     ]
    }
   ],
   "source": [
    "print([x for x in unknown_words_pos if x[1] =='NUM'])\n",
    "\n",
    "print(' ')\n",
    "\n",
    "print(len([x for x in unknown_words_pos if x[1] =='NUM']))"
   ]
  },
  {
   "cell_type": "code",
   "execution_count": 50,
   "metadata": {},
   "outputs": [],
   "source": [
    "patterns_numbers = [\n",
    "        (r'^-?[0-9]+(.[0-9]+)?$', 'NUM'), # cardinal numbers\n",
    "]"
   ]
  },
  {
   "cell_type": "markdown",
   "metadata": {},
   "source": [
    "#### Final pattern for Regex"
   ]
  },
  {
   "cell_type": "markdown",
   "metadata": {},
   "source": [
    "We need to assign some POS for the words which aren't aligned to any rule. Since we know that most of the words which are unknown belong to `NOUN` category, we would be using that as default tag."
   ]
  },
  {
   "cell_type": "code",
   "execution_count": 51,
   "metadata": {},
   "outputs": [],
   "source": [
    "# Final pattern\n",
    "\n",
    "pattern = [\n",
    "    (r'.*ing$', 'VERB'),            # gerund\n",
    "    (r'.*ed$', 'VERB'),             # past tense\n",
    "    (r'.*es$', 'VERB'),             # 3rd singular present\n",
    "    (r'.*ly$', 'ADV'),              # gerund\n",
    "    (r'^-?[0-9]+(.[0-9]+)?$', 'NUM'), # cardinal numbers\n",
    "    (r'.*s$', 'NOUN'),              # plural nouns\n",
    "    (r'.*', 'NOUN')                 # nouns\n",
    "]"
   ]
  },
  {
   "cell_type": "code",
   "execution_count": 52,
   "metadata": {},
   "outputs": [],
   "source": [
    "# Defining Regex based tagger\n",
    "\n",
    "regexp_tagger = nltk.RegexpTagger(pattern)"
   ]
  },
  {
   "cell_type": "code",
   "execution_count": 55,
   "metadata": {},
   "outputs": [],
   "source": [
    "# Viterbi  and Regex tagger: Viterbi with added condition for unknown words\n",
    "\n",
    "\n",
    "def Viter2(words, train_bag = train_tagged_words):\n",
    "    count1 = 0\n",
    "    state = []\n",
    "    T = list(tags)\n",
    "    \n",
    "    for key, word in enumerate(words):\n",
    "        if word in train_vocab: \n",
    "            p = [] \n",
    "            for tag in tags:\n",
    "                if key == 0:\n",
    "                    transition_p = tags_df.loc['.', tag]\n",
    "                else:\n",
    "                    transition_p = tags_df.loc[state[-1], tag]\n",
    "                \n",
    "                emission_p = emission(word, tag)\n",
    "                state_probability = emission_p * transition_p    \n",
    "                p.append(state_probability)\n",
    "            \n",
    "            pmax = max(p)\n",
    "            state_max = T[p.index(pmax)]\n",
    "        \n",
    "        else:\n",
    "            print('unknown trigger!')\n",
    "            state_max = regexp_tagger.tag([word])[0][1]\n",
    "        \n",
    "        state.append(state_max)\n",
    "        print(count1, word, state_max)\n",
    "        count1 += 1\n",
    "    return list(zip(words, state))"
   ]
  },
  {
   "cell_type": "code",
   "execution_count": 84,
   "metadata": {
    "scrolled": true
   },
   "outputs": [],
   "source": [
    "start = time.time()\n",
    "test_pred2 = Viter2([x[0] for y in test_set for x in y])\n",
    "end = time.time()\n",
    "difference = end-start\n",
    "print(\"Time taken in seconds: \", difference)"
   ]
  },
  {
   "cell_type": "code",
   "execution_count": 58,
   "metadata": {},
   "outputs": [
    {
     "data": {
      "text/plain": [
       "0.9493942946463463"
      ]
     },
     "execution_count": 58,
     "metadata": {},
     "output_type": "execute_result"
    }
   ],
   "source": [
    "# accuracy\n",
    "\n",
    "wrong_pos2 = [(i,j,k) for i,j,k in list(zip([x[0] for x in test_tagged_words],\n",
    "                                  [x[1] for x in test_tagged_words],\n",
    "                                  [x[1] for x in test_pred2])) if j != k]\n",
    "accuracy2 = 1-len(wrong_pos2)/len(test_tagged_words)\n",
    "accuracy2"
   ]
  },
  {
   "cell_type": "markdown",
   "metadata": {},
   "source": [
    "We can observe some improvement in the accuracy a compared to only Viterbi based model."
   ]
  },
  {
   "cell_type": "code",
   "execution_count": 61,
   "metadata": {},
   "outputs": [
    {
     "name": "stdout",
     "output_type": "stream",
     "text": [
      "[('eight-count', 'ADJ', 'NOUN'), ('manipulate', 'VERB', 'NOUN'), ('sterling', 'NOUN', 'VERB'), ('metropolitan', 'ADJ', 'NOUN'), ('journalistic', 'ADJ', 'NOUN'), ('large-scale', 'ADJ', 'NOUN'), ('facial', 'ADJ', 'NOUN'), ('double', 'ADJ', 'NOUN'), ('classical', 'ADJ', 'NOUN'), ('ensembles', 'NOUN', 'VERB'), ('exciting', 'ADJ', 'VERB'), ('eclectic', 'ADJ', 'NOUN'), ('intertitles', 'NOUN', 'VERB'), ('negotiable', 'ADJ', 'NOUN'), ('double', 'VERB', 'NOUN'), ('land-idling', 'ADJ', 'VERB'), ('price-depressing', 'ADJ', 'VERB'), ('surpluses', 'NOUN', 'VERB'), ('accrue', 'VERB', 'NOUN'), ('labor-backed', 'ADJ', 'VERB'), ('unofficial', 'ADJ', 'NOUN'), ('apologize', 'VERB', 'NOUN'), ('packed', 'ADJ', 'VERB'), ('pre-approved', 'ADJ', 'VERB'), ('demobilize', 'VERB', 'NOUN'), ('finest', 'ADJ', 'NOUN'), ('genuine', 'ADJ', 'NOUN'), ('touchy', 'ADJ', 'NOUN'), ('styles', 'NOUN', 'VERB'), ('one-house', 'ADJ', 'NOUN'), ('bicameral', 'ADJ', 'NOUN'), ('*-133', 'X', 'NOUN'), ('notify', 'VERB', 'NOUN'), ('9\\\\/32', 'NUM', 'NOUN'), ('*-141', 'X', 'NOUN'), ('beer-belly', 'NOUN', 'ADV'), ('unwashed', 'ADJ', 'VERB'), ('flatulent', 'ADJ', 'NOUN'), ('whimsical', 'ADJ', 'NOUN'), ('enviable', 'ADJ', 'NOUN'), ('inauspicious', 'ADJ', 'NOUN'), ('generous', 'ADJ', 'NOUN'), ('ENDED', 'VERB', 'NOUN'), ('low-tech', 'ADJ', 'NOUN'), ('strategic', 'ADJ', 'NOUN'), ('proof', 'ADJ', 'NOUN'), ('*-113', 'X', 'NOUN'), ('*-82', 'X', 'NOUN'), ('high-volume', 'ADJ', 'NOUN'), ('awful', 'ADJ', 'NOUN'), ('fly', 'VERB', 'ADV'), ('fly', 'VERB', 'ADV'), ('would-be', 'ADJ', 'NOUN'), ('consists', 'VERB', 'NOUN'), ('year-long', 'ADJ', 'NOUN'), ('concede', 'VERB', 'NOUN'), ('red-carpet', 'ADJ', 'NOUN'), ('tempts', 'VERB', 'NOUN'), ('raring', 'ADJ', 'VERB'), ('invent', 'VERB', 'NOUN'), ('87-store', 'ADJ', 'NOUN'), ('whistle', 'VERB', 'NOUN'), ('industry-supported', 'ADJ', 'VERB'), ('*T*-180', 'X', 'NOUN'), ('*T*-105', 'X', 'NOUN'), ('slash', 'VERB', 'NOUN'), ('gubernatorial', 'ADJ', 'NOUN'), ('CLEARS', 'VERB', 'NOUN'), ('impressive', 'ADJ', 'NOUN'), ('undiplomatic', 'ADJ', 'NOUN'), ('unitary', 'ADJ', 'NOUN'), ('Articles', 'NOUN', 'VERB'), ('mirrors', 'VERB', 'NOUN'), ('investigate', 'VERB', 'NOUN'), ('weapons-modernization', 'ADJ', 'NOUN'), ('*T*-235', 'X', 'NOUN'), ('*T*-178', 'X', 'NOUN'), ('disaster-assistance', 'ADJ', 'NOUN'), ('suburban', 'ADJ', 'NOUN'), ('Except', 'ADP', 'NOUN'), ('stuck', 'VERB', 'NOUN'), ('high-balance', 'ADJ', 'NOUN'), ('pine', 'VERB', 'NOUN'), ('Policies', 'NOUN', 'VERB'), ('akin', 'ADJ', 'NOUN'), ('please', 'VERB', 'NOUN'), ('old-style', 'ADJ', 'NOUN'), ('juggle', 'VERB', 'NOUN'), ('desires', 'NOUN', 'VERB'), ('untrained', 'ADJ', 'VERB'), ('botched', 'ADJ', 'VERB'), ('lynch-mob', 'ADJ', 'NOUN'), ('Long-term', 'ADJ', 'NOUN'), ('salaries', 'NOUN', 'VERB'), ('exhibits', 'VERB', 'NOUN'), ('*-139', 'X', 'NOUN'), ('fuller', 'ADJ', 'NOUN'), ('*-160', 'X', 'NOUN'), ('*T*-221', 'X', 'NOUN'), ('herald', 'VERB', 'NOUN'), ('shake', 'VERB', 'NOUN'), ('*T*-126', 'X', 'NOUN'), ('offend', 'VERB', 'NOUN'), ('supplemental', 'ADJ', 'NOUN'), ('anti-drug', 'ADJ', 'NOUN'), ('nondurable', 'ADJ', 'NOUN'), ('*T*-154', 'X', 'NOUN')]\n",
      " \n",
      "107\n"
     ]
    }
   ],
   "source": [
    "unknown_words_pos2 = [x for x in wrong_pos2 if x[0] not in train_vocab]\n",
    "print(unknown_words_pos2)\n",
    "\n",
    "print(' ')\n",
    "\n",
    "print(len(unknown_words_pos2))"
   ]
  },
  {
   "cell_type": "code",
   "execution_count": 60,
   "metadata": {},
   "outputs": [
    {
     "data": {
      "image/png": "[encoded data removed]",
      "text/plain": [
       "<Figure size 432x288 with 1 Axes>"
      ]
     },
     "metadata": {
      "needs_background": "light"
     },
     "output_type": "display_data"
    },
    {
     "data": {
      "text/plain": [
       "<AxesSubplot:xlabel='Samples', ylabel='Counts'>"
      ]
     },
     "execution_count": 60,
     "metadata": {},
     "output_type": "execute_result"
    }
   ],
   "source": [
    "# Checking distribution of unknown words POS tags\n",
    "\n",
    "FreqDist([x[1] for x in unknown_words_pos2]).plot()"
   ]
  },
  {
   "cell_type": "code",
   "execution_count": 64,
   "metadata": {},
   "outputs": [
    {
     "name": "stdout",
     "output_type": "stream",
     "text": [
      "[('eight-count', 'ADJ', 'NOUN'), ('metropolitan', 'ADJ', 'NOUN'), ('journalistic', 'ADJ', 'NOUN'), ('large-scale', 'ADJ', 'NOUN'), ('facial', 'ADJ', 'NOUN'), ('double', 'ADJ', 'NOUN'), ('classical', 'ADJ', 'NOUN'), ('exciting', 'ADJ', 'VERB'), ('eclectic', 'ADJ', 'NOUN'), ('negotiable', 'ADJ', 'NOUN'), ('land-idling', 'ADJ', 'VERB'), ('price-depressing', 'ADJ', 'VERB'), ('labor-backed', 'ADJ', 'VERB'), ('unofficial', 'ADJ', 'NOUN'), ('packed', 'ADJ', 'VERB'), ('pre-approved', 'ADJ', 'VERB'), ('finest', 'ADJ', 'NOUN'), ('genuine', 'ADJ', 'NOUN'), ('touchy', 'ADJ', 'NOUN'), ('one-house', 'ADJ', 'NOUN'), ('bicameral', 'ADJ', 'NOUN'), ('unwashed', 'ADJ', 'VERB'), ('flatulent', 'ADJ', 'NOUN'), ('whimsical', 'ADJ', 'NOUN'), ('enviable', 'ADJ', 'NOUN'), ('inauspicious', 'ADJ', 'NOUN'), ('generous', 'ADJ', 'NOUN'), ('low-tech', 'ADJ', 'NOUN'), ('strategic', 'ADJ', 'NOUN'), ('proof', 'ADJ', 'NOUN'), ('high-volume', 'ADJ', 'NOUN'), ('awful', 'ADJ', 'NOUN'), ('would-be', 'ADJ', 'NOUN'), ('year-long', 'ADJ', 'NOUN'), ('red-carpet', 'ADJ', 'NOUN'), ('raring', 'ADJ', 'VERB'), ('87-store', 'ADJ', 'NOUN'), ('industry-supported', 'ADJ', 'VERB'), ('gubernatorial', 'ADJ', 'NOUN'), ('impressive', 'ADJ', 'NOUN'), ('undiplomatic', 'ADJ', 'NOUN'), ('unitary', 'ADJ', 'NOUN'), ('weapons-modernization', 'ADJ', 'NOUN'), ('disaster-assistance', 'ADJ', 'NOUN'), ('suburban', 'ADJ', 'NOUN'), ('high-balance', 'ADJ', 'NOUN'), ('akin', 'ADJ', 'NOUN'), ('old-style', 'ADJ', 'NOUN'), ('untrained', 'ADJ', 'VERB'), ('botched', 'ADJ', 'VERB'), ('lynch-mob', 'ADJ', 'NOUN'), ('Long-term', 'ADJ', 'NOUN'), ('fuller', 'ADJ', 'NOUN'), ('supplemental', 'ADJ', 'NOUN'), ('anti-drug', 'ADJ', 'NOUN'), ('nondurable', 'ADJ', 'NOUN')]\n",
      " \n",
      "56\n"
     ]
    }
   ],
   "source": [
    "print([x for x in unknown_words_pos2 if x[1] =='ADJ'])\n",
    "\n",
    "print(' ')\n",
    "\n",
    "print(len([x for x in unknown_words_pos2 if x[1] =='ADJ']))"
   ]
  },
  {
   "cell_type": "markdown",
   "metadata": {},
   "source": [
    "Here, we don't see any further possible rules for 'ADJ' words. Hence, we would finalize `Viter2` as model for POS tagging."
   ]
  },
  {
   "cell_type": "markdown",
   "metadata": {},
   "source": [
    "#### Testing on new sentences"
   ]
  },
  {
   "cell_type": "code",
   "execution_count": 75,
   "metadata": {},
   "outputs": [],
   "source": [
    "# input sentence\n",
    "\n",
    "sent = 'Hurray!!! This is summer time. Let us have fun!'"
   ]
  },
  {
   "cell_type": "code",
   "execution_count": 69,
   "metadata": {},
   "outputs": [],
   "source": [
    "# Dependancy\n",
    "\n",
    "from nltk import word_tokenize"
   ]
  },
  {
   "cell_type": "code",
   "execution_count": 76,
   "metadata": {},
   "outputs": [
    {
     "data": {
      "text/plain": [
       "['Hurray',\n",
       " '!',\n",
       " '!',\n",
       " '!',\n",
       " 'This',\n",
       " 'is',\n",
       " 'summer',\n",
       " 'time',\n",
       " '.',\n",
       " 'Let',\n",
       " 'us',\n",
       " 'have',\n",
       " 'fun',\n",
       " '!']"
      ]
     },
     "execution_count": 76,
     "metadata": {},
     "output_type": "execute_result"
    }
   ],
   "source": [
    "# tokenize sentence\n",
    "\n",
    "sent_tokens = word_tokenize(sent)\n",
    "sent_tokens"
   ]
  },
  {
   "cell_type": "code",
   "execution_count": 81,
   "metadata": {},
   "outputs": [
    {
     "name": "stdout",
     "output_type": "stream",
     "text": [
      "unknown trigger!\n",
      "0 Hurray NOUN\n",
      "1 ! .\n",
      "2 ! .\n",
      "3 ! .\n",
      "4 This DET\n",
      "5 is VERB\n",
      "6 summer NOUN\n",
      "7 time NOUN\n",
      "8 . .\n",
      "unknown trigger!\n",
      "9 Let NOUN\n",
      "10 us PRON\n",
      "11 have VERB\n",
      "unknown trigger!\n",
      "12 fun NOUN\n",
      "13 ! .\n"
     ]
    },
    {
     "data": {
      "text/plain": [
       "[('Hurray', 'NOUN'),\n",
       " ('!', '.'),\n",
       " ('!', '.'),\n",
       " ('!', '.'),\n",
       " ('This', 'DET'),\n",
       " ('is', 'VERB'),\n",
       " ('summer', 'NOUN'),\n",
       " ('time', 'NOUN'),\n",
       " ('.', '.'),\n",
       " ('Let', 'NOUN'),\n",
       " ('us', 'PRON'),\n",
       " ('have', 'VERB'),\n",
       " ('fun', 'NOUN'),\n",
       " ('!', '.')]"
      ]
     },
     "execution_count": 81,
     "metadata": {},
     "output_type": "execute_result"
    }
   ],
   "source": [
    "Viter2(sent_tokens)"
   ]
  },
  {
   "cell_type": "markdown",
   "metadata": {},
   "source": [
    "## Conclusion"
   ]
  },
  {
   "cell_type": "markdown",
   "metadata": {},
   "source": [
    "- Viterbi is a powerful algorithm for POS tagging. It is time consuming but gives accurate results.\n",
    "- Viterbi can be further improved using algorithms like Regex tagger."
   ]
  },
  {
   "cell_type": "markdown",
   "metadata": {},
   "source": [
    "---------------------"
   ]
  }
 ],
 "metadata": {
  "kernelspec": {
   "display_name": "Python 3",
   "language": "python",
   "name": "python3"
  },
  "language_info": {
   "codemirror_mode": {
    "name": "ipython",
    "version": 3
   },
   "file_extension": ".py",
   "mimetype": "text/x-python",
   "name": "python",
   "nbconvert_exporter": "python",
   "pygments_lexer": "ipython3",
   "version": "3.7.6"
  }
 },
 "nbformat": 4,
 "nbformat_minor": 2
}
