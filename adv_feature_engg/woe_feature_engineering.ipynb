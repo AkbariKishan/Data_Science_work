{
 "cells": [
  {
   "cell_type": "code",
   "execution_count": 1,
   "id": "481ce82a",
   "metadata": {},
   "outputs": [],
   "source": [
    "import numpy as np\n",
    "import pandas as pd\n",
    "\n",
    "import matplotlib.pyplot as plt\n",
    "import seaborn as sns\n",
    "sns.set()"
   ]
  },
  {
   "cell_type": "code",
   "execution_count": 2,
   "id": "e7179ea9",
   "metadata": {},
   "outputs": [
    {
     "data": {
      "text/html": [
       "<div>\n",
       "<style scoped>\n",
       "    .dataframe tbody tr th:only-of-type {\n",
       "        vertical-align: middle;\n",
       "    }\n",
       "\n",
       "    .dataframe tbody tr th {\n",
       "        vertical-align: top;\n",
       "    }\n",
       "\n",
       "    .dataframe thead th {\n",
       "        text-align: right;\n",
       "    }\n",
       "</style>\n",
       "<table border=\"1\" class=\"dataframe\">\n",
       "  <thead>\n",
       "    <tr style=\"text-align: right;\">\n",
       "      <th></th>\n",
       "      <th>PassengerId</th>\n",
       "      <th>Survived</th>\n",
       "      <th>Pclass</th>\n",
       "      <th>Name</th>\n",
       "      <th>Sex</th>\n",
       "      <th>Age</th>\n",
       "      <th>SibSp</th>\n",
       "      <th>Parch</th>\n",
       "      <th>Ticket</th>\n",
       "      <th>Fare</th>\n",
       "      <th>Cabin</th>\n",
       "      <th>Embarked</th>\n",
       "    </tr>\n",
       "  </thead>\n",
       "  <tbody>\n",
       "    <tr>\n",
       "      <th>0</th>\n",
       "      <td>1</td>\n",
       "      <td>0</td>\n",
       "      <td>3</td>\n",
       "      <td>Braund, Mr. Owen Harris</td>\n",
       "      <td>male</td>\n",
       "      <td>22.0</td>\n",
       "      <td>1</td>\n",
       "      <td>0</td>\n",
       "      <td>A/5 21171</td>\n",
       "      <td>7.2500</td>\n",
       "      <td>NaN</td>\n",
       "      <td>S</td>\n",
       "    </tr>\n",
       "    <tr>\n",
       "      <th>1</th>\n",
       "      <td>2</td>\n",
       "      <td>1</td>\n",
       "      <td>1</td>\n",
       "      <td>Cumings, Mrs. John Bradley (Florence Briggs Th...</td>\n",
       "      <td>female</td>\n",
       "      <td>38.0</td>\n",
       "      <td>1</td>\n",
       "      <td>0</td>\n",
       "      <td>PC 17599</td>\n",
       "      <td>71.2833</td>\n",
       "      <td>C85</td>\n",
       "      <td>C</td>\n",
       "    </tr>\n",
       "  </tbody>\n",
       "</table>\n",
       "</div>"
      ],
      "text/plain": [
       "   PassengerId  Survived  Pclass  \\\n",
       "0            1         0       3   \n",
       "1            2         1       1   \n",
       "\n",
       "                                                Name     Sex   Age  SibSp  \\\n",
       "0                            Braund, Mr. Owen Harris    male  22.0      1   \n",
       "1  Cumings, Mrs. John Bradley (Florence Briggs Th...  female  38.0      1   \n",
       "\n",
       "   Parch     Ticket     Fare Cabin Embarked  \n",
       "0      0  A/5 21171   7.2500   NaN        S  \n",
       "1      0   PC 17599  71.2833   C85        C  "
      ]
     },
     "execution_count": 2,
     "metadata": {},
     "output_type": "execute_result"
    }
   ],
   "source": [
    "data = pd.read_csv('titanic.csv')\n",
    "data.head(2)"
   ]
  },
  {
   "cell_type": "code",
   "execution_count": 3,
   "id": "311ebf44",
   "metadata": {},
   "outputs": [
    {
     "name": "stdout",
     "output_type": "stream",
     "text": [
      "<class 'pandas.core.frame.DataFrame'>\n",
      "RangeIndex: 891 entries, 0 to 890\n",
      "Data columns (total 12 columns):\n",
      " #   Column       Non-Null Count  Dtype  \n",
      "---  ------       --------------  -----  \n",
      " 0   PassengerId  891 non-null    int64  \n",
      " 1   Survived     891 non-null    int64  \n",
      " 2   Pclass       891 non-null    int64  \n",
      " 3   Name         891 non-null    object \n",
      " 4   Sex          891 non-null    object \n",
      " 5   Age          714 non-null    float64\n",
      " 6   SibSp        891 non-null    int64  \n",
      " 7   Parch        891 non-null    int64  \n",
      " 8   Ticket       891 non-null    object \n",
      " 9   Fare         891 non-null    float64\n",
      " 10  Cabin        204 non-null    object \n",
      " 11  Embarked     889 non-null    object \n",
      "dtypes: float64(2), int64(5), object(5)\n",
      "memory usage: 83.7+ KB\n"
     ]
    }
   ],
   "source": [
    "data.info()"
   ]
  },
  {
   "cell_type": "code",
   "execution_count": 4,
   "id": "04e2d570",
   "metadata": {},
   "outputs": [
    {
     "data": {
      "text/html": [
       "<div>\n",
       "<style scoped>\n",
       "    .dataframe tbody tr th:only-of-type {\n",
       "        vertical-align: middle;\n",
       "    }\n",
       "\n",
       "    .dataframe tbody tr th {\n",
       "        vertical-align: top;\n",
       "    }\n",
       "\n",
       "    .dataframe thead th {\n",
       "        text-align: right;\n",
       "    }\n",
       "</style>\n",
       "<table border=\"1\" class=\"dataframe\">\n",
       "  <thead>\n",
       "    <tr style=\"text-align: right;\">\n",
       "      <th></th>\n",
       "      <th>Survived</th>\n",
       "      <th>Age</th>\n",
       "      <th>Embarked</th>\n",
       "    </tr>\n",
       "  </thead>\n",
       "  <tbody>\n",
       "    <tr>\n",
       "      <th>0</th>\n",
       "      <td>0</td>\n",
       "      <td>22.0</td>\n",
       "      <td>S</td>\n",
       "    </tr>\n",
       "    <tr>\n",
       "      <th>1</th>\n",
       "      <td>1</td>\n",
       "      <td>38.0</td>\n",
       "      <td>C</td>\n",
       "    </tr>\n",
       "  </tbody>\n",
       "</table>\n",
       "</div>"
      ],
      "text/plain": [
       "   Survived   Age Embarked\n",
       "0         0  22.0        S\n",
       "1         1  38.0        C"
      ]
     },
     "execution_count": 4,
     "metadata": {},
     "output_type": "execute_result"
    }
   ],
   "source": [
    "data = data[['Survived', 'Age', 'Embarked']]\n",
    "data.head(2)"
   ]
  },
  {
   "cell_type": "markdown",
   "id": "eb1ba298",
   "metadata": {},
   "source": [
    "### Categorical Column"
   ]
  },
  {
   "cell_type": "code",
   "execution_count": 5,
   "id": "13876afa",
   "metadata": {},
   "outputs": [
    {
     "data": {
      "text/plain": [
       "array(['S', 'C', 'Q', nan], dtype=object)"
      ]
     },
     "execution_count": 5,
     "metadata": {},
     "output_type": "execute_result"
    }
   ],
   "source": [
    "data.Embarked.unique()"
   ]
  },
  {
   "cell_type": "code",
   "execution_count": 6,
   "id": "b4cdea00",
   "metadata": {},
   "outputs": [],
   "source": [
    "data.Embarked.fillna('Nulls', inplace  = True)"
   ]
  },
  {
   "cell_type": "code",
   "execution_count": 7,
   "id": "6cde8926",
   "metadata": {},
   "outputs": [],
   "source": [
    "def woe_discrete(df, discrete_var_name, good_bad_var_name):\n",
    "    df = pd.concat([df[discrete_var_name], df[good_bad_var_name]], axis = 1)\n",
    "    df = pd.concat([df.groupby(df.columns.values[0], as_index = False)[df.columns.values[1]].count(),\n",
    "                   df.groupby(df.columns.values[0], as_index = False)[df.columns.values[1]].sum()], axis = 1)\n",
    "    df = df.iloc[:, [0, 1, 3]]\n",
    "    df.columns = [df.columns.values[0], 'n_obs', 'prop_good']\n",
    "    df['prop_n_obs'] = df['n_obs']/df['n_obs'].sum()\n",
    "    df['n_good'] = df['prop_good']*df['n_obs']\n",
    "    df['n_bad'] = (1-df['prop_good'])*df['n_obs']\n",
    "    df['prop_n_good'] = df['n_good']/df['n_good'].sum()\n",
    "    df['prop_n_bad'] = df['n_bad']/df['n_bad'].sum()\n",
    "    df['WoE'] = np.log(df['prop_n_good'] / df['prop_n_bad'])\n",
    "    df = df.sort_values(['WoE'])\n",
    "    df = df.reset_index(drop = True)\n",
    "    df['diff_prop_good'] = df['prop_good'].diff().abs()\n",
    "    df['diff_WoE'] = df['WoE'].diff().abs()\n",
    "    df['IV'] = (df['prop_n_good'] - df['prop_n_bad']) * df['WoE']\n",
    "    df['IV'] = df['IV'].sum()\n",
    "    return df"
   ]
  },
  {
   "cell_type": "code",
   "execution_count": 8,
   "id": "0968e893",
   "metadata": {
    "scrolled": true
   },
   "outputs": [
    {
     "data": {
      "text/html": [
       "<div>\n",
       "<style scoped>\n",
       "    .dataframe tbody tr th:only-of-type {\n",
       "        vertical-align: middle;\n",
       "    }\n",
       "\n",
       "    .dataframe tbody tr th {\n",
       "        vertical-align: top;\n",
       "    }\n",
       "\n",
       "    .dataframe thead th {\n",
       "        text-align: right;\n",
       "    }\n",
       "</style>\n",
       "<table border=\"1\" class=\"dataframe\">\n",
       "  <thead>\n",
       "    <tr style=\"text-align: right;\">\n",
       "      <th></th>\n",
       "      <th>Embarked</th>\n",
       "      <th>n_obs</th>\n",
       "      <th>prop_good</th>\n",
       "      <th>prop_n_obs</th>\n",
       "      <th>n_good</th>\n",
       "      <th>n_bad</th>\n",
       "      <th>prop_n_good</th>\n",
       "      <th>prop_n_bad</th>\n",
       "      <th>WoE</th>\n",
       "      <th>diff_prop_good</th>\n",
       "      <th>diff_WoE</th>\n",
       "      <th>IV</th>\n",
       "    </tr>\n",
       "  </thead>\n",
       "  <tbody>\n",
       "    <tr>\n",
       "      <th>0</th>\n",
       "      <td>S</td>\n",
       "      <td>644</td>\n",
       "      <td>217</td>\n",
       "      <td>0.722783</td>\n",
       "      <td>139748</td>\n",
       "      <td>-139104</td>\n",
       "      <td>0.886242</td>\n",
       "      <td>0.887171</td>\n",
       "      <td>-0.001048</td>\n",
       "      <td>NaN</td>\n",
       "      <td>NaN</td>\n",
       "      <td>0.000024</td>\n",
       "    </tr>\n",
       "    <tr>\n",
       "      <th>1</th>\n",
       "      <td>C</td>\n",
       "      <td>168</td>\n",
       "      <td>93</td>\n",
       "      <td>0.188552</td>\n",
       "      <td>15624</td>\n",
       "      <td>-15456</td>\n",
       "      <td>0.099083</td>\n",
       "      <td>0.098575</td>\n",
       "      <td>0.005144</td>\n",
       "      <td>124.0</td>\n",
       "      <td>0.006192</td>\n",
       "      <td>0.000024</td>\n",
       "    </tr>\n",
       "    <tr>\n",
       "      <th>2</th>\n",
       "      <td>Q</td>\n",
       "      <td>77</td>\n",
       "      <td>30</td>\n",
       "      <td>0.086420</td>\n",
       "      <td>2310</td>\n",
       "      <td>-2233</td>\n",
       "      <td>0.014649</td>\n",
       "      <td>0.014242</td>\n",
       "      <td>0.028235</td>\n",
       "      <td>63.0</td>\n",
       "      <td>0.023091</td>\n",
       "      <td>0.000024</td>\n",
       "    </tr>\n",
       "    <tr>\n",
       "      <th>3</th>\n",
       "      <td>Nulls</td>\n",
       "      <td>2</td>\n",
       "      <td>2</td>\n",
       "      <td>0.002245</td>\n",
       "      <td>4</td>\n",
       "      <td>-2</td>\n",
       "      <td>0.000025</td>\n",
       "      <td>0.000013</td>\n",
       "      <td>0.687481</td>\n",
       "      <td>28.0</td>\n",
       "      <td>0.659246</td>\n",
       "      <td>0.000024</td>\n",
       "    </tr>\n",
       "  </tbody>\n",
       "</table>\n",
       "</div>"
      ],
      "text/plain": [
       "  Embarked  n_obs  prop_good  prop_n_obs  n_good   n_bad  prop_n_good  \\\n",
       "0        S    644        217    0.722783  139748 -139104     0.886242   \n",
       "1        C    168         93    0.188552   15624  -15456     0.099083   \n",
       "2        Q     77         30    0.086420    2310   -2233     0.014649   \n",
       "3    Nulls      2          2    0.002245       4      -2     0.000025   \n",
       "\n",
       "   prop_n_bad       WoE  diff_prop_good  diff_WoE        IV  \n",
       "0    0.887171 -0.001048             NaN       NaN  0.000024  \n",
       "1    0.098575  0.005144           124.0  0.006192  0.000024  \n",
       "2    0.014242  0.028235            63.0  0.023091  0.000024  \n",
       "3    0.000013  0.687481            28.0  0.659246  0.000024  "
      ]
     },
     "execution_count": 8,
     "metadata": {},
     "output_type": "execute_result"
    }
   ],
   "source": [
    "df_emb = woe_discrete(data,'Embarked', 'Survived')\n",
    "df_emb"
   ]
  },
  {
   "cell_type": "code",
   "execution_count": 9,
   "id": "746b4b66",
   "metadata": {},
   "outputs": [],
   "source": [
    "def plot_by_woe(df_WoE, rotation_of_x_axis_lables = 0):\n",
    "    x = np.array(df_WoE.iloc[:, 0].apply(str))\n",
    "    y = df_WoE['WoE']\n",
    "    plt.figure(figsize = (18, 6))\n",
    "    plt.plot(x, y, marker = 'o', linestyle = '--', color = 'k')\n",
    "    plt.xlabel(df_WoE.columns[0])\n",
    "    plt.ylabel('Weight of Evidence')\n",
    "    plt.title(str('Weight of Evidence by' + df_WoE.columns[0]))\n",
    "    plt.xticks(rotation = rotation_of_x_axis_lables)"
   ]
  },
  {
   "cell_type": "code",
   "execution_count": 10,
   "id": "f8550478",
   "metadata": {},
   "outputs": [
    {
     "data": {
      "image/png": "[encoded data removed]",
      "text/plain": [
       "<Figure size 1296x432 with 1 Axes>"
      ]
     },
     "metadata": {},
     "output_type": "display_data"
    }
   ],
   "source": [
    "plot_by_woe(df_emb)"
   ]
  },
  {
   "cell_type": "markdown",
   "id": "45f3a70f",
   "metadata": {},
   "source": [
    "We would replace 'Nulls' with 'Q' as that category having closest WoE value."
   ]
  },
  {
   "cell_type": "code",
   "execution_count": 11,
   "id": "f219f132",
   "metadata": {},
   "outputs": [
    {
     "data": {
      "text/plain": [
       "array(['S', 'C', 'Q'], dtype=object)"
      ]
     },
     "execution_count": 11,
     "metadata": {},
     "output_type": "execute_result"
    }
   ],
   "source": [
    "data.Embarked = data.Embarked.map({'S':'S',\n",
    "                                   'C':'C',\n",
    "                                   'Q':'Q',\n",
    "                                   'Nulls' : 'Q'})\n",
    "data.Embarked.unique()"
   ]
  },
  {
   "cell_type": "code",
   "execution_count": 12,
   "id": "7d8cfe08",
   "metadata": {},
   "outputs": [
    {
     "data": {
      "text/html": [
       "<div>\n",
       "<style scoped>\n",
       "    .dataframe tbody tr th:only-of-type {\n",
       "        vertical-align: middle;\n",
       "    }\n",
       "\n",
       "    .dataframe tbody tr th {\n",
       "        vertical-align: top;\n",
       "    }\n",
       "\n",
       "    .dataframe thead th {\n",
       "        text-align: right;\n",
       "    }\n",
       "</style>\n",
       "<table border=\"1\" class=\"dataframe\">\n",
       "  <thead>\n",
       "    <tr style=\"text-align: right;\">\n",
       "      <th></th>\n",
       "      <th>Embarked</th>\n",
       "      <th>n_obs</th>\n",
       "      <th>prop_good</th>\n",
       "      <th>prop_n_obs</th>\n",
       "      <th>n_good</th>\n",
       "      <th>n_bad</th>\n",
       "      <th>prop_n_good</th>\n",
       "      <th>prop_n_bad</th>\n",
       "      <th>WoE</th>\n",
       "      <th>diff_prop_good</th>\n",
       "      <th>diff_WoE</th>\n",
       "      <th>IV</th>\n",
       "    </tr>\n",
       "  </thead>\n",
       "  <tbody>\n",
       "    <tr>\n",
       "      <th>0</th>\n",
       "      <td>S</td>\n",
       "      <td>644</td>\n",
       "      <td>217</td>\n",
       "      <td>0.722783</td>\n",
       "      <td>139748</td>\n",
       "      <td>-139104</td>\n",
       "      <td>0.885041</td>\n",
       "      <td>0.885962</td>\n",
       "      <td>-0.001040</td>\n",
       "      <td>NaN</td>\n",
       "      <td>NaN</td>\n",
       "      <td>0.000014</td>\n",
       "    </tr>\n",
       "    <tr>\n",
       "      <th>1</th>\n",
       "      <td>C</td>\n",
       "      <td>168</td>\n",
       "      <td>93</td>\n",
       "      <td>0.188552</td>\n",
       "      <td>15624</td>\n",
       "      <td>-15456</td>\n",
       "      <td>0.098949</td>\n",
       "      <td>0.098440</td>\n",
       "      <td>0.005152</td>\n",
       "      <td>124.0</td>\n",
       "      <td>0.006192</td>\n",
       "      <td>0.000014</td>\n",
       "    </tr>\n",
       "    <tr>\n",
       "      <th>2</th>\n",
       "      <td>Q</td>\n",
       "      <td>79</td>\n",
       "      <td>32</td>\n",
       "      <td>0.088664</td>\n",
       "      <td>2528</td>\n",
       "      <td>-2449</td>\n",
       "      <td>0.016010</td>\n",
       "      <td>0.015598</td>\n",
       "      <td>0.026090</td>\n",
       "      <td>61.0</td>\n",
       "      <td>0.020938</td>\n",
       "      <td>0.000014</td>\n",
       "    </tr>\n",
       "  </tbody>\n",
       "</table>\n",
       "</div>"
      ],
      "text/plain": [
       "  Embarked  n_obs  prop_good  prop_n_obs  n_good   n_bad  prop_n_good  \\\n",
       "0        S    644        217    0.722783  139748 -139104     0.885041   \n",
       "1        C    168         93    0.188552   15624  -15456     0.098949   \n",
       "2        Q     79         32    0.088664    2528   -2449     0.016010   \n",
       "\n",
       "   prop_n_bad       WoE  diff_prop_good  diff_WoE        IV  \n",
       "0    0.885962 -0.001040             NaN       NaN  0.000014  \n",
       "1    0.098440  0.005152           124.0  0.006192  0.000014  \n",
       "2    0.015598  0.026090            61.0  0.020938  0.000014  "
      ]
     },
     "execution_count": 12,
     "metadata": {},
     "output_type": "execute_result"
    }
   ],
   "source": [
    "df_emb = woe_discrete(data,'Embarked', 'Survived')\n",
    "df_emb"
   ]
  },
  {
   "cell_type": "code",
   "execution_count": 13,
   "id": "d3cb549f",
   "metadata": {},
   "outputs": [
    {
     "data": {
      "image/png": "[encoded data removed]",
      "text/plain": [
       "<Figure size 1296x432 with 1 Axes>"
      ]
     },
     "metadata": {},
     "output_type": "display_data"
    }
   ],
   "source": [
    "plot_by_woe(df_emb)"
   ]
  },
  {
   "cell_type": "markdown",
   "id": "b35f3c76",
   "metadata": {},
   "source": [
    "We can not merge any more categories as they have significant number of observations with different WoE values. Hence, we would finalize these three categories for model development. Next step should be convert them to dummies and use them."
   ]
  },
  {
   "cell_type": "code",
   "execution_count": 14,
   "id": "7922f0a5",
   "metadata": {},
   "outputs": [
    {
     "data": {
      "text/html": [
       "<div>\n",
       "<style scoped>\n",
       "    .dataframe tbody tr th:only-of-type {\n",
       "        vertical-align: middle;\n",
       "    }\n",
       "\n",
       "    .dataframe tbody tr th {\n",
       "        vertical-align: top;\n",
       "    }\n",
       "\n",
       "    .dataframe thead th {\n",
       "        text-align: right;\n",
       "    }\n",
       "</style>\n",
       "<table border=\"1\" class=\"dataframe\">\n",
       "  <thead>\n",
       "    <tr style=\"text-align: right;\">\n",
       "      <th></th>\n",
       "      <th>C</th>\n",
       "      <th>Q</th>\n",
       "      <th>S</th>\n",
       "    </tr>\n",
       "  </thead>\n",
       "  <tbody>\n",
       "    <tr>\n",
       "      <th>0</th>\n",
       "      <td>0</td>\n",
       "      <td>0</td>\n",
       "      <td>1</td>\n",
       "    </tr>\n",
       "    <tr>\n",
       "      <th>1</th>\n",
       "      <td>1</td>\n",
       "      <td>0</td>\n",
       "      <td>0</td>\n",
       "    </tr>\n",
       "    <tr>\n",
       "      <th>2</th>\n",
       "      <td>0</td>\n",
       "      <td>0</td>\n",
       "      <td>1</td>\n",
       "    </tr>\n",
       "    <tr>\n",
       "      <th>3</th>\n",
       "      <td>0</td>\n",
       "      <td>0</td>\n",
       "      <td>1</td>\n",
       "    </tr>\n",
       "    <tr>\n",
       "      <th>4</th>\n",
       "      <td>0</td>\n",
       "      <td>0</td>\n",
       "      <td>1</td>\n",
       "    </tr>\n",
       "  </tbody>\n",
       "</table>\n",
       "</div>"
      ],
      "text/plain": [
       "   C  Q  S\n",
       "0  0  0  1\n",
       "1  1  0  0\n",
       "2  0  0  1\n",
       "3  0  0  1\n",
       "4  0  0  1"
      ]
     },
     "execution_count": 14,
     "metadata": {},
     "output_type": "execute_result"
    }
   ],
   "source": [
    "dummies = pd.get_dummies(data.Embarked)\n",
    "dummies.head()"
   ]
  },
  {
   "cell_type": "markdown",
   "id": "141037de",
   "metadata": {},
   "source": [
    "### Numeric Column"
   ]
  },
  {
   "cell_type": "code",
   "execution_count": 15,
   "id": "c0eb3cce",
   "metadata": {},
   "outputs": [
    {
     "name": "stdout",
     "output_type": "stream",
     "text": [
      "<class 'pandas.core.frame.DataFrame'>\n",
      "RangeIndex: 891 entries, 0 to 890\n",
      "Data columns (total 3 columns):\n",
      " #   Column    Non-Null Count  Dtype  \n",
      "---  ------    --------------  -----  \n",
      " 0   Survived  891 non-null    int64  \n",
      " 1   Age       714 non-null    float64\n",
      " 2   Embarked  891 non-null    object \n",
      "dtypes: float64(1), int64(1), object(1)\n",
      "memory usage: 21.0+ KB\n"
     ]
    }
   ],
   "source": [
    "data.info()"
   ]
  },
  {
   "cell_type": "code",
   "execution_count": 16,
   "id": "427f7666",
   "metadata": {},
   "outputs": [
    {
     "name": "stdout",
     "output_type": "stream",
     "text": [
      "<class 'pandas.core.frame.DataFrame'>\n",
      "RangeIndex: 891 entries, 0 to 890\n",
      "Data columns (total 3 columns):\n",
      " #   Column    Non-Null Count  Dtype  \n",
      "---  ------    --------------  -----  \n",
      " 0   Survived  891 non-null    int64  \n",
      " 1   Age       891 non-null    float64\n",
      " 2   Embarked  891 non-null    object \n",
      "dtypes: float64(1), int64(1), object(1)\n",
      "memory usage: 21.0+ KB\n"
     ]
    }
   ],
   "source": [
    "data.Age.fillna(data.Age.median(), inplace = True)\n",
    "data.info()"
   ]
  },
  {
   "cell_type": "code",
   "execution_count": 17,
   "id": "a37e76d2",
   "metadata": {},
   "outputs": [],
   "source": [
    "def woe_ordered_cont(df, discrete_var_name, good_bad_var_name):\n",
    "    df = pd.concat([df[discrete_var_name], df[good_bad_var_name]], axis = 1)\n",
    "    df = pd.concat([df.groupby(df.columns.values[0], as_index = False)[df.columns.values[1]].count(),\n",
    "                   df.groupby(df.columns.values[0], as_index = False)[df.columns.values[1]].sum()], axis = 1)\n",
    "    df = df.iloc[:, [0, 1, 3]]\n",
    "    df.columns = [df.columns.values[0], 'n_obs', 'prop_good']\n",
    "    df['prop_n_obs'] = df['n_obs']/df['n_obs'].sum()\n",
    "    df['n_good'] = df['prop_good']*df['n_obs']\n",
    "    df['n_bad'] = (1-df['prop_good'])*df['n_obs']\n",
    "    df['prop_n_good'] = df['n_good']/df['n_good'].sum()\n",
    "    df['prop_n_bad'] = df['n_bad']/df['n_bad'].sum()\n",
    "    df['WoE'] = np.log(df['prop_n_good'] / df['prop_n_bad'])\n",
    "#     df = df.sort_values(['WoE'])\n",
    "#     df = df.reset_index(drop = True)\n",
    "    df['diff_prop_good'] = df['prop_good'].diff().abs()\n",
    "    df['diff_WoE'] = df['WoE'].diff().abs()\n",
    "    df['IV'] = (df['prop_n_good'] - df['prop_n_bad']) * df['WoE']\n",
    "    df['IV'] = df['IV'].sum()\n",
    "    return df"
   ]
  },
  {
   "cell_type": "code",
   "execution_count": 18,
   "id": "cb0d5683",
   "metadata": {},
   "outputs": [
    {
     "data": {
      "text/plain": [
       "88"
      ]
     },
     "execution_count": 18,
     "metadata": {},
     "output_type": "execute_result"
    }
   ],
   "source": [
    "data.Age.nunique()"
   ]
  },
  {
   "cell_type": "code",
   "execution_count": 19,
   "id": "63082797",
   "metadata": {},
   "outputs": [
    {
     "data": {
      "text/plain": [
       "0      (16.336, 24.294]\n",
       "1       (32.252, 40.21]\n",
       "2      (24.294, 32.252]\n",
       "3       (32.252, 40.21]\n",
       "4       (32.252, 40.21]\n",
       "             ...       \n",
       "886    (24.294, 32.252]\n",
       "887    (16.336, 24.294]\n",
       "888    (24.294, 32.252]\n",
       "889    (24.294, 32.252]\n",
       "890    (24.294, 32.252]\n",
       "Name: Age_factor, Length: 891, dtype: category\n",
       "Categories (10, interval[float64, right]): [(0.34, 8.378] < (8.378, 16.336] < (16.336, 24.294] < (24.294, 32.252] ... (48.168, 56.126] < (56.126, 64.084] < (64.084, 72.042] < (72.042, 80.0]]"
      ]
     },
     "execution_count": 19,
     "metadata": {},
     "output_type": "execute_result"
    }
   ],
   "source": [
    "data['Age_factor'] = pd.cut(data.Age, 10)\n",
    "data['Age_factor']"
   ]
  },
  {
   "cell_type": "code",
   "execution_count": 20,
   "id": "c959af69",
   "metadata": {
    "scrolled": true
   },
   "outputs": [
    {
     "name": "stderr",
     "output_type": "stream",
     "text": [
      "C:\\Users\\Kishan\\anaconda3\\lib\\site-packages\\pandas\\core\\arraylike.py:364: RuntimeWarning: divide by zero encountered in log\n",
      "  result = getattr(ufunc, method)(*inputs, **kwargs)\n",
      "C:\\Users\\Kishan\\anaconda3\\lib\\site-packages\\pandas\\core\\arraylike.py:364: RuntimeWarning: invalid value encountered in log\n",
      "  result = getattr(ufunc, method)(*inputs, **kwargs)\n"
     ]
    },
    {
     "data": {
      "text/html": [
       "<div>\n",
       "<style scoped>\n",
       "    .dataframe tbody tr th:only-of-type {\n",
       "        vertical-align: middle;\n",
       "    }\n",
       "\n",
       "    .dataframe tbody tr th {\n",
       "        vertical-align: top;\n",
       "    }\n",
       "\n",
       "    .dataframe thead th {\n",
       "        text-align: right;\n",
       "    }\n",
       "</style>\n",
       "<table border=\"1\" class=\"dataframe\">\n",
       "  <thead>\n",
       "    <tr style=\"text-align: right;\">\n",
       "      <th></th>\n",
       "      <th>Age_factor</th>\n",
       "      <th>n_obs</th>\n",
       "      <th>prop_good</th>\n",
       "      <th>prop_n_obs</th>\n",
       "      <th>n_good</th>\n",
       "      <th>n_bad</th>\n",
       "      <th>prop_n_good</th>\n",
       "      <th>prop_n_bad</th>\n",
       "      <th>WoE</th>\n",
       "      <th>diff_prop_good</th>\n",
       "      <th>diff_WoE</th>\n",
       "      <th>IV</th>\n",
       "    </tr>\n",
       "  </thead>\n",
       "  <tbody>\n",
       "    <tr>\n",
       "      <th>0</th>\n",
       "      <td>(0.34, 8.378]</td>\n",
       "      <td>54</td>\n",
       "      <td>36</td>\n",
       "      <td>0.060606</td>\n",
       "      <td>1944</td>\n",
       "      <td>-1890</td>\n",
       "      <td>0.030648</td>\n",
       "      <td>0.030221</td>\n",
       "      <td>0.014024</td>\n",
       "      <td>NaN</td>\n",
       "      <td>NaN</td>\n",
       "      <td>-inf</td>\n",
       "    </tr>\n",
       "    <tr>\n",
       "      <th>1</th>\n",
       "      <td>(8.378, 16.336]</td>\n",
       "      <td>46</td>\n",
       "      <td>19</td>\n",
       "      <td>0.051627</td>\n",
       "      <td>874</td>\n",
       "      <td>-828</td>\n",
       "      <td>0.013779</td>\n",
       "      <td>0.013240</td>\n",
       "      <td>0.039921</td>\n",
       "      <td>17.0</td>\n",
       "      <td>0.025896</td>\n",
       "      <td>-inf</td>\n",
       "    </tr>\n",
       "    <tr>\n",
       "      <th>2</th>\n",
       "      <td>(16.336, 24.294]</td>\n",
       "      <td>177</td>\n",
       "      <td>63</td>\n",
       "      <td>0.198653</td>\n",
       "      <td>11151</td>\n",
       "      <td>-10974</td>\n",
       "      <td>0.175800</td>\n",
       "      <td>0.175475</td>\n",
       "      <td>0.001854</td>\n",
       "      <td>44.0</td>\n",
       "      <td>0.038067</td>\n",
       "      <td>-inf</td>\n",
       "    </tr>\n",
       "    <tr>\n",
       "      <th>3</th>\n",
       "      <td>(24.294, 32.252]</td>\n",
       "      <td>346</td>\n",
       "      <td>117</td>\n",
       "      <td>0.388328</td>\n",
       "      <td>40482</td>\n",
       "      <td>-40136</td>\n",
       "      <td>0.638215</td>\n",
       "      <td>0.641776</td>\n",
       "      <td>-0.005563</td>\n",
       "      <td>54.0</td>\n",
       "      <td>0.007417</td>\n",
       "      <td>-inf</td>\n",
       "    </tr>\n",
       "    <tr>\n",
       "      <th>4</th>\n",
       "      <td>(32.252, 40.21]</td>\n",
       "      <td>118</td>\n",
       "      <td>52</td>\n",
       "      <td>0.132435</td>\n",
       "      <td>6136</td>\n",
       "      <td>-6018</td>\n",
       "      <td>0.096737</td>\n",
       "      <td>0.096228</td>\n",
       "      <td>0.005272</td>\n",
       "      <td>65.0</td>\n",
       "      <td>0.010834</td>\n",
       "      <td>-inf</td>\n",
       "    </tr>\n",
       "    <tr>\n",
       "      <th>5</th>\n",
       "      <td>(40.21, 48.168]</td>\n",
       "      <td>70</td>\n",
       "      <td>24</td>\n",
       "      <td>0.078563</td>\n",
       "      <td>1680</td>\n",
       "      <td>-1610</td>\n",
       "      <td>0.026486</td>\n",
       "      <td>0.025744</td>\n",
       "      <td>0.028413</td>\n",
       "      <td>28.0</td>\n",
       "      <td>0.023142</td>\n",
       "      <td>-inf</td>\n",
       "    </tr>\n",
       "    <tr>\n",
       "      <th>6</th>\n",
       "      <td>(48.168, 56.126]</td>\n",
       "      <td>45</td>\n",
       "      <td>21</td>\n",
       "      <td>0.050505</td>\n",
       "      <td>945</td>\n",
       "      <td>-900</td>\n",
       "      <td>0.014898</td>\n",
       "      <td>0.014391</td>\n",
       "      <td>0.034644</td>\n",
       "      <td>3.0</td>\n",
       "      <td>0.006231</td>\n",
       "      <td>-inf</td>\n",
       "    </tr>\n",
       "    <tr>\n",
       "      <th>7</th>\n",
       "      <td>(56.126, 64.084]</td>\n",
       "      <td>24</td>\n",
       "      <td>9</td>\n",
       "      <td>0.026936</td>\n",
       "      <td>216</td>\n",
       "      <td>-192</td>\n",
       "      <td>0.003405</td>\n",
       "      <td>0.003070</td>\n",
       "      <td>0.103636</td>\n",
       "      <td>12.0</td>\n",
       "      <td>0.068993</td>\n",
       "      <td>-inf</td>\n",
       "    </tr>\n",
       "    <tr>\n",
       "      <th>8</th>\n",
       "      <td>(64.084, 72.042]</td>\n",
       "      <td>9</td>\n",
       "      <td>0</td>\n",
       "      <td>0.010101</td>\n",
       "      <td>0</td>\n",
       "      <td>9</td>\n",
       "      <td>0.000000</td>\n",
       "      <td>-0.000144</td>\n",
       "      <td>-inf</td>\n",
       "      <td>9.0</td>\n",
       "      <td>inf</td>\n",
       "      <td>-inf</td>\n",
       "    </tr>\n",
       "    <tr>\n",
       "      <th>9</th>\n",
       "      <td>(72.042, 80.0]</td>\n",
       "      <td>2</td>\n",
       "      <td>1</td>\n",
       "      <td>0.002245</td>\n",
       "      <td>2</td>\n",
       "      <td>0</td>\n",
       "      <td>0.000032</td>\n",
       "      <td>-0.000000</td>\n",
       "      <td>NaN</td>\n",
       "      <td>1.0</td>\n",
       "      <td>NaN</td>\n",
       "      <td>-inf</td>\n",
       "    </tr>\n",
       "  </tbody>\n",
       "</table>\n",
       "</div>"
      ],
      "text/plain": [
       "         Age_factor  n_obs  prop_good  prop_n_obs  n_good  n_bad  prop_n_good  \\\n",
       "0     (0.34, 8.378]     54         36    0.060606    1944  -1890     0.030648   \n",
       "1   (8.378, 16.336]     46         19    0.051627     874   -828     0.013779   \n",
       "2  (16.336, 24.294]    177         63    0.198653   11151 -10974     0.175800   \n",
       "3  (24.294, 32.252]    346        117    0.388328   40482 -40136     0.638215   \n",
       "4   (32.252, 40.21]    118         52    0.132435    6136  -6018     0.096737   \n",
       "5   (40.21, 48.168]     70         24    0.078563    1680  -1610     0.026486   \n",
       "6  (48.168, 56.126]     45         21    0.050505     945   -900     0.014898   \n",
       "7  (56.126, 64.084]     24          9    0.026936     216   -192     0.003405   \n",
       "8  (64.084, 72.042]      9          0    0.010101       0      9     0.000000   \n",
       "9    (72.042, 80.0]      2          1    0.002245       2      0     0.000032   \n",
       "\n",
       "   prop_n_bad       WoE  diff_prop_good  diff_WoE   IV  \n",
       "0    0.030221  0.014024             NaN       NaN -inf  \n",
       "1    0.013240  0.039921            17.0  0.025896 -inf  \n",
       "2    0.175475  0.001854            44.0  0.038067 -inf  \n",
       "3    0.641776 -0.005563            54.0  0.007417 -inf  \n",
       "4    0.096228  0.005272            65.0  0.010834 -inf  \n",
       "5    0.025744  0.028413            28.0  0.023142 -inf  \n",
       "6    0.014391  0.034644             3.0  0.006231 -inf  \n",
       "7    0.003070  0.103636            12.0  0.068993 -inf  \n",
       "8   -0.000144      -inf             9.0       inf -inf  \n",
       "9   -0.000000       NaN             1.0       NaN -inf  "
      ]
     },
     "execution_count": 20,
     "metadata": {},
     "output_type": "execute_result"
    }
   ],
   "source": [
    "df_temp = woe_ordered_cont(data, 'Age_factor', 'Survived')\n",
    "df_temp"
   ]
  },
  {
   "cell_type": "code",
   "execution_count": 21,
   "id": "ca0d3afa",
   "metadata": {},
   "outputs": [
    {
     "data": {
      "image/png": "[encoded data removed]",
      "text/plain": [
       "<Figure size 1296x432 with 1 Axes>"
      ]
     },
     "metadata": {},
     "output_type": "display_data"
    }
   ],
   "source": [
    "plot_by_woe(df_temp)"
   ]
  },
  {
   "cell_type": "markdown",
   "id": "e59871cd",
   "metadata": {},
   "source": [
    "Required categories:\n",
    "- 'Age:<9'\n",
    "- 'Age:9-17'\n",
    "- 'Age:17-41'\n",
    "- 'Age:41-57'\n",
    "- 'Age:>=57'"
   ]
  },
  {
   "cell_type": "code",
   "execution_count": 22,
   "id": "8ba6bbb4",
   "metadata": {},
   "outputs": [
    {
     "data": {
      "text/html": [
       "<div>\n",
       "<style scoped>\n",
       "    .dataframe tbody tr th:only-of-type {\n",
       "        vertical-align: middle;\n",
       "    }\n",
       "\n",
       "    .dataframe tbody tr th {\n",
       "        vertical-align: top;\n",
       "    }\n",
       "\n",
       "    .dataframe thead th {\n",
       "        text-align: right;\n",
       "    }\n",
       "</style>\n",
       "<table border=\"1\" class=\"dataframe\">\n",
       "  <thead>\n",
       "    <tr style=\"text-align: right;\">\n",
       "      <th></th>\n",
       "      <th>Survived</th>\n",
       "      <th>Age</th>\n",
       "      <th>Embarked</th>\n",
       "      <th>Age_factor</th>\n",
       "      <th>Age:&lt;9</th>\n",
       "      <th>Age:9-17</th>\n",
       "      <th>Age:17-41</th>\n",
       "      <th>Age:41-57</th>\n",
       "      <th>Age:&gt;57</th>\n",
       "    </tr>\n",
       "  </thead>\n",
       "  <tbody>\n",
       "    <tr>\n",
       "      <th>0</th>\n",
       "      <td>0</td>\n",
       "      <td>22.0</td>\n",
       "      <td>S</td>\n",
       "      <td>(16.336, 24.294]</td>\n",
       "      <td>0</td>\n",
       "      <td>0</td>\n",
       "      <td>1</td>\n",
       "      <td>0</td>\n",
       "      <td>0</td>\n",
       "    </tr>\n",
       "    <tr>\n",
       "      <th>1</th>\n",
       "      <td>1</td>\n",
       "      <td>38.0</td>\n",
       "      <td>C</td>\n",
       "      <td>(32.252, 40.21]</td>\n",
       "      <td>0</td>\n",
       "      <td>0</td>\n",
       "      <td>1</td>\n",
       "      <td>0</td>\n",
       "      <td>0</td>\n",
       "    </tr>\n",
       "    <tr>\n",
       "      <th>2</th>\n",
       "      <td>1</td>\n",
       "      <td>26.0</td>\n",
       "      <td>S</td>\n",
       "      <td>(24.294, 32.252]</td>\n",
       "      <td>0</td>\n",
       "      <td>0</td>\n",
       "      <td>1</td>\n",
       "      <td>0</td>\n",
       "      <td>0</td>\n",
       "    </tr>\n",
       "    <tr>\n",
       "      <th>3</th>\n",
       "      <td>1</td>\n",
       "      <td>35.0</td>\n",
       "      <td>S</td>\n",
       "      <td>(32.252, 40.21]</td>\n",
       "      <td>0</td>\n",
       "      <td>0</td>\n",
       "      <td>1</td>\n",
       "      <td>0</td>\n",
       "      <td>0</td>\n",
       "    </tr>\n",
       "    <tr>\n",
       "      <th>4</th>\n",
       "      <td>0</td>\n",
       "      <td>35.0</td>\n",
       "      <td>S</td>\n",
       "      <td>(32.252, 40.21]</td>\n",
       "      <td>0</td>\n",
       "      <td>0</td>\n",
       "      <td>1</td>\n",
       "      <td>0</td>\n",
       "      <td>0</td>\n",
       "    </tr>\n",
       "  </tbody>\n",
       "</table>\n",
       "</div>"
      ],
      "text/plain": [
       "   Survived   Age Embarked        Age_factor  Age:<9  Age:9-17  Age:17-41  \\\n",
       "0         0  22.0        S  (16.336, 24.294]       0         0          1   \n",
       "1         1  38.0        C   (32.252, 40.21]       0         0          1   \n",
       "2         1  26.0        S  (24.294, 32.252]       0         0          1   \n",
       "3         1  35.0        S   (32.252, 40.21]       0         0          1   \n",
       "4         0  35.0        S   (32.252, 40.21]       0         0          1   \n",
       "\n",
       "   Age:41-57  Age:>57  \n",
       "0          0        0  \n",
       "1          0        0  \n",
       "2          0        0  \n",
       "3          0        0  \n",
       "4          0        0  "
      ]
     },
     "execution_count": 22,
     "metadata": {},
     "output_type": "execute_result"
    }
   ],
   "source": [
    "data['Age:<9'] = np.where(data['Age'].isin(range(9)), 1, 0)\n",
    "data['Age:9-17'] = np.where(data['Age'].isin(range(9, 17)), 1, 0)\n",
    "data['Age:17-41'] = np.where(data['Age'].isin(range(17, 41)), 1, 0)\n",
    "data['Age:41-57'] = np.where(data['Age'].isin(range(41, 57)), 1, 0)\n",
    "data['Age:>57'] = np.where(data['Age'].isin(range(57, int(data['Age'].max()))), 1, 0)\n",
    "                           \n",
    "data.head()"
   ]
  },
  {
   "cell_type": "markdown",
   "id": "032b2f4b",
   "metadata": {},
   "source": [
    "----------------"
   ]
  }
 ],
 "metadata": {
  "kernelspec": {
   "display_name": "Python 3 (ipykernel)",
   "language": "python",
   "name": "python3"
  },
  "language_info": {
   "codemirror_mode": {
    "name": "ipython",
    "version": 3
   },
   "file_extension": ".py",
   "mimetype": "text/x-python",
   "name": "python",
   "nbconvert_exporter": "python",
   "pygments_lexer": "ipython3",
   "version": "3.9.7"
  }
 },
 "nbformat": 4,
 "nbformat_minor": 5
}
